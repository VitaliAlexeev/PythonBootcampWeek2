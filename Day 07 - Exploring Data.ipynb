{
 "cells": [
  {
   "cell_type": "markdown",
   "metadata": {},
   "source": [
    "## Exploratory Data Analysis with a Real Dataset using Pandas\n",
    "\n",
    "<center><img src=\"data\\images\\data.png\" alt=\"Relation of data, information and intelligence\" title=\"Relation of data, information and intelligence\" style=\"width: 600px;\"/></center>\n",
    "\n",
    "In statistics, *exploratory data analysis (EDA)* is an approach to analyzing data sets to summarize their main characteristics, often with visual methods. A statistical model can be used or not, but primarily EDA is for seeing what the data can tell us beyond the formal modeling or hypothesis testing task. Exploratory data analysis was promoted by John Tukey to encourage statisticians to explore the data, and possibly formulate hypotheses that could lead to new data collection and experiments. EDA is different from *initial data analysis (IDA)*, which focuses more narrowly on checking assumptions required for model fitting and hypothesis testing, and handling missing values and making transformations of variables as needed. EDA encompasses IDA. \n",
    "\n",
    "Sometimes, when facing a Data problem, we must first dive into the Dataset and learn about it. Its properties, its distributions — we need to immerse in the domain.\n",
    "\n",
    "As a geeky programmer with poor sense of aesthetics, I've found `Seaborn` to be an awesome visualization tool whenever I need to get a point across.\n",
    "\n",
    "It uses `Matplotlib` under the hood, but sets graphics up with default style values that make them look a lot prettier than I could ever manage to make them. We'll take a look at a Dataset, and I'll try to give you an intuition of how to look at different features. Who knows, maybe we'll actually gain some insights from this!\n",
    "\n",
    "Using the 120 years of Olympics Dataset, which you can download for free from [Kaggle](https://www.kaggle.com/), an awesome site if you need to get a Dataset to try out some new Machine Learning algorithm, or just have a bit of fun.\n",
    "\n",
    "The `athlete_events.csv` file, which has a row for every competitor on every Olympics game since 1900, with their country of birth, whether they obtained a medal, etc. As an interesting fact, the medals column is 85% empty, so on average only about 15% of Olympics Athletes actually get a medal. Add to that that some Athletes get more than one, and it shows how an even narrower quantity of the already few Olympic level athletes actually earn a medal. All the more credit to them!"
   ]
  },
  {
   "cell_type": "code",
   "execution_count": null,
   "metadata": {},
   "outputs": [],
   "source": [
    "import pandas as pd\n",
    "import matplotlib.pyplot as plt\n",
    "plt.rcParams[\"figure.figsize\"]=[4,2]\n",
    "\n",
    "import seaborn as sns\n",
    "import utsbootcamp as bc"
   ]
  },
  {
   "cell_type": "markdown",
   "metadata": {},
   "source": [
    "## Read data "
   ]
  },
  {
   "cell_type": "code",
   "execution_count": null,
   "metadata": {},
   "outputs": [],
   "source": [
    "df = pd.read_csv('data/athlete_events.csv')\n",
    "df.shape"
   ]
  },
  {
   "cell_type": "code",
   "execution_count": null,
   "metadata": {},
   "outputs": [],
   "source": [
    "df.head(6) # Quick glance at the dataset"
   ]
  },
  {
   "cell_type": "code",
   "execution_count": null,
   "metadata": {},
   "outputs": [],
   "source": [
    "list(df) # List of column names"
   ]
  },
  {
   "cell_type": "markdown",
   "metadata": {},
   "source": [
    "## Basic plots"
   ]
  },
  {
   "cell_type": "markdown",
   "metadata": {},
   "source": [
    "### Histograms for single variables"
   ]
  },
  {
   "cell_type": "code",
   "execution_count": null,
   "metadata": {},
   "outputs": [],
   "source": [
    "sns.histplot(df.Weight.dropna(),bins=30)  # Weight distribution of athletes\n",
    "plt.show()                        # silent plot"
   ]
  },
  {
   "cell_type": "code",
   "execution_count": null,
   "metadata": {},
   "outputs": [],
   "source": [
    "sns.histplot(df.Weight.dropna(),bins=50,kde=True)"
   ]
  },
  {
   "cell_type": "code",
   "execution_count": null,
   "metadata": {},
   "outputs": [],
   "source": [
    "sns.displot(df[df.Sex=='F'].Weight.dropna())\n",
    "plt.show()"
   ]
  },
  {
   "cell_type": "code",
   "execution_count": null,
   "metadata": {},
   "outputs": [],
   "source": [
    "sns.histplot(df[(df.Sex=='M') & (df.Sport=='Tug-Of-War')].Weight.dropna(),kde=True)\n",
    "plt.show()"
   ]
  },
  {
   "cell_type": "code",
   "execution_count": null,
   "metadata": {},
   "outputs": [],
   "source": [
    "check_df=df[(df.Sex=='M') & (df.Sport=='Tug-Of-War')]"
   ]
  },
  {
   "cell_type": "code",
   "execution_count": null,
   "metadata": {},
   "outputs": [],
   "source": [
    "check_df.tail(10)"
   ]
  },
  {
   "cell_type": "code",
   "execution_count": null,
   "metadata": {},
   "outputs": [],
   "source": [
    "sns.histplot(df[df.Sex=='M'].Weight.dropna(),bins=30,kde=True)\n",
    "plt.show()"
   ]
  },
  {
   "cell_type": "markdown",
   "metadata": {},
   "source": [
    "### Contrast several variables in a single histogram"
   ]
  },
  {
   "cell_type": "markdown",
   "metadata": {},
   "source": [
    "<font size=\"6\"> <font color=blue> (</font> <font color=Crimson> Plot1</font> ,  <font color=Crimson> Plot2</font> <font color=blue> )</font> </font>"
   ]
  },
  {
   "cell_type": "code",
   "execution_count": null,
   "metadata": {},
   "outputs": [],
   "source": [
    "(sns.kdeplot(df[df.Sex=='F'].Weight.dropna()),\n",
    " sns.kdeplot(df[df.Sex=='M'].Weight.dropna()))\n",
    "plt.show()"
   ]
  },
  {
   "cell_type": "code",
   "execution_count": null,
   "metadata": {},
   "outputs": [],
   "source": [
    "(sns.kdeplot(df[df.Sport=='Speed Skating'].Weight.dropna(),fill=True),\n",
    " sns.kdeplot(df[df.Sport=='Tug-Of-War'].Weight.dropna(),fill=True))\n",
    "plt.show()"
   ]
  },
  {
   "cell_type": "markdown",
   "metadata": {},
   "source": [
    "> <font color=DeepPink>Exercise</font>: <br>\n",
    "> What can you tell about the means of the two distributions above? Can you infer they are statistically significantly different?"
   ]
  },
  {
   "cell_type": "markdown",
   "metadata": {},
   "source": [
    "#### Choosing number of bins"
   ]
  },
  {
   "cell_type": "code",
   "execution_count": null,
   "metadata": {},
   "outputs": [],
   "source": [
    "sns.displot(df.Age.dropna(),kde=True); plt.show()"
   ]
  },
  {
   "cell_type": "code",
   "execution_count": null,
   "metadata": {},
   "outputs": [],
   "source": [
    "sns.displot(df.Age.dropna(),bins=80,kde=True); plt.show()"
   ]
  },
  {
   "cell_type": "markdown",
   "metadata": {},
   "source": []
  },
  {
   "cell_type": "code",
   "execution_count": null,
   "metadata": {},
   "outputs": [],
   "source": [
    "(sns.kdeplot(df[df.Sex=='F'].Age.dropna(),fill=True),\n",
    " sns.kdeplot(df[df.Sex=='M'].Age.dropna(),fill=True))\n",
    "plt.show()"
   ]
  },
  {
   "cell_type": "code",
   "execution_count": null,
   "metadata": {},
   "outputs": [],
   "source": [
    "(sns.kdeplot(df[df.Sex=='F'].Height.dropna(),fill=True),\n",
    " sns.kdeplot(df[df.Sex=='M'].Height.dropna(),fill=True))\n",
    "plt.show()"
   ]
  },
  {
   "cell_type": "markdown",
   "metadata": {},
   "source": [
    "#### Adding a legend"
   ]
  },
  {
   "cell_type": "code",
   "execution_count": null,
   "metadata": {},
   "outputs": [],
   "source": [
    "(sns.kdeplot(df[df.Sex=='F'].Height.dropna(),fill=True,label='Female'),\n",
    " sns.kdeplot(df[df.Sex=='M'].Height.dropna(),fill=True,label='Male'))\n",
    "plt.legend(loc=\"upper left\")\n",
    "plt.show()"
   ]
  },
  {
   "cell_type": "markdown",
   "metadata": {},
   "source": [
    "There are 271,115 data entries. What are the different types of sport in the Olympics? "
   ]
  },
  {
   "cell_type": "markdown",
   "metadata": {},
   "source": [
    "## Analysing datasets"
   ]
  },
  {
   "cell_type": "markdown",
   "metadata": {},
   "source": [
    "### Unique values"
   ]
  },
  {
   "cell_type": "code",
   "execution_count": null,
   "metadata": {},
   "outputs": [],
   "source": [
    "df.Sport"
   ]
  },
  {
   "cell_type": "code",
   "execution_count": null,
   "metadata": {},
   "outputs": [],
   "source": [
    "df.Sport.unique()"
   ]
  },
  {
   "cell_type": "code",
   "execution_count": null,
   "metadata": {},
   "outputs": [],
   "source": [
    "df.Sport.unique().shape"
   ]
  },
  {
   "cell_type": "code",
   "execution_count": null,
   "metadata": {},
   "outputs": [],
   "source": [
    "df.Sport.value_counts() # try using 'normalize' option, e.g., value_counts(normalize=True)"
   ]
  },
  {
   "cell_type": "code",
   "execution_count": null,
   "metadata": {},
   "outputs": [],
   "source": [
    "plt.rcParams[\"figure.figsize\"]=[14,12]\n",
    "nBins=25\n",
    "\n",
    "\n",
    "(sns.kdeplot(df[(df.Sex=='F') & (df.Sport=='Swimming')].Height.dropna(),fill=True,label='Female'),\n",
    " sns.kdeplot(df[(df.Sex=='M') & (df.Sport=='Swimming')].Height.dropna(),fill=True,label='Male'),\n",
    " sns.kdeplot(df[df.Sport=='Swimming'].Height.dropna(),fill=True,label='All')); \n",
    "plt.legend(loc=\"upper right\")\n",
    "plt.show()"
   ]
  },
  {
   "cell_type": "markdown",
   "metadata": {},
   "source": [
    "### Missing values"
   ]
  },
  {
   "cell_type": "code",
   "execution_count": null,
   "metadata": {},
   "outputs": [],
   "source": [
    "def NaN_percent(df, column_name):\n",
    "    row_count = df[column_name].shape[0]\n",
    "    empty_values = row_count - df[column_name].count() # we rely on the difference in shape and .count() methods\n",
    "    return (100.0*empty_values)/row_count"
   ]
  },
  {
   "cell_type": "code",
   "execution_count": null,
   "metadata": {},
   "outputs": [],
   "source": [
    "NaN_percent(df, 'Weight')"
   ]
  },
  {
   "cell_type": "code",
   "execution_count": null,
   "metadata": {},
   "outputs": [],
   "source": [
    "for i in list(df):\n",
    "    print(i +': ' + str(NaN_percent(df,i))+'%')"
   ]
  },
  {
   "cell_type": "markdown",
   "metadata": {},
   "source": [
    "> <font color=DeepPink>Exercise 1</font>: <br>\n",
    "> Format and align the output. Use the cell below to try:"
   ]
  },
  {
   "cell_type": "code",
   "execution_count": null,
   "metadata": {},
   "outputs": [],
   "source": [
    "for i in list(df):\n",
    "    print(f\"{i}: {NaN_percent(df,i)}%\")"
   ]
  },
  {
   "cell_type": "markdown",
   "metadata": {},
   "source": []
  },
  {
   "cell_type": "markdown",
   "metadata": {},
   "source": [
    "One question we could ask is **how many different people won medals since 1900**? The following snippet answers the question:"
   ]
  },
  {
   "cell_type": "code",
   "execution_count": null,
   "metadata": {},
   "outputs": [],
   "source": [
    "print(f'Unique number of athletes (by names): {len(df.Name.unique())}')"
   ]
  },
  {
   "cell_type": "code",
   "execution_count": null,
   "metadata": {},
   "outputs": [],
   "source": [
    "print(f'Unique number of athletes (by ID): {len(df.ID.unique())}')"
   ]
  },
  {
   "cell_type": "markdown",
   "metadata": {},
   "source": [
    "The number of unique names and the number of unique IDs **do not match**? Why?\n",
    "\n",
    "***\n",
    "How to identify which entries are problematic? The code below is too advanced for now, but flag it and come back to it during your Econometrics course.\n",
    "\n",
    "*In English*:\n",
    "> For each unique name in the database (`df.Name.unique()`), check the IDs associated with each of those names `df.ID.loc[df.Name==i]`, consider only the unique ID values for a specific name (`.unique`) and if it is more than one (`.shape[0]!=1`), report the IDs that are different but have identical names for Olympic Athletes."
   ]
  },
  {
   "cell_type": "code",
   "execution_count": null,
   "metadata": {
    "tags": []
   },
   "outputs": [],
   "source": [
    "# WARNING: Takes too long to execute (large database)\n",
    "# too advanced for now, flag it and come back a few weeks later\n",
    "for i in df.Name.unique():\n",
    "    if df.ID.loc[df.Name==i].unique().shape[0]!=1:\n",
    "        print(df.ID.loc[df.Name==i].unique())"
   ]
  },
  {
   "cell_type": "markdown",
   "metadata": {},
   "source": [
    "***"
   ]
  },
  {
   "cell_type": "code",
   "execution_count": null,
   "metadata": {},
   "outputs": [],
   "source": [
    "total_rows = df.shape[0] # Total number of entries (all athletes, in all years, multiple entries)\n",
    "unique_athletes = len(df.ID.unique()) # Only unique athletes\n",
    "medal_winners = len(df[df.Medal.fillna('None')!='None'].ID.unique()) # Non-empty medal entries with unique athlete IDs\n",
    "\n",
    "\"{0} {1} {2}\".format(total_rows, unique_athletes, medal_winners)"
   ]
  },
  {
   "cell_type": "code",
   "execution_count": null,
   "metadata": {},
   "outputs": [],
   "source": [
    "print(f'Total is {total_rows} of which {unique_athletes} are unique athletes with only {medal_winners} ever getting medals.')"
   ]
  },
  {
   "cell_type": "markdown",
   "metadata": {},
   "source": [
    "As you see, almost 135 thousand different people have competed on the Olympic games in the last 120 years, but only a little over 28 thousand have earned at least one medal."
   ]
  },
  {
   "cell_type": "markdown",
   "metadata": {},
   "source": [
    "Now that we're at it, how many medals have actually been earned throughout these 120 years?"
   ]
  },
  {
   "cell_type": "code",
   "execution_count": null,
   "metadata": {},
   "outputs": [],
   "source": [
    "df[df.Medal.fillna('None')!='None'].shape[0]"
   ]
  },
  {
   "cell_type": "markdown",
   "metadata": {},
   "source": [
    "### Value counts (`value_counts`)\n",
    "Use `.value_counts(normalize=False, sort=True, ascending=False, bins=None, dropna=True)`"
   ]
  },
  {
   "cell_type": "code",
   "execution_count": null,
   "metadata": {},
   "outputs": [],
   "source": [
    "print(df.Medal.value_counts())"
   ]
  },
  {
   "cell_type": "code",
   "execution_count": null,
   "metadata": {},
   "outputs": [],
   "source": [
    "print(df.Medal.value_counts(normalize=True))"
   ]
  },
  {
   "cell_type": "code",
   "execution_count": null,
   "metadata": {},
   "outputs": [],
   "source": [
    "print(df.Medal.value_counts(normalize=True,dropna=False))"
   ]
  },
  {
   "cell_type": "code",
   "execution_count": null,
   "metadata": {},
   "outputs": [],
   "source": [
    "print(df[df.Medal.fillna('None')!='None'].Medal.value_counts())"
   ]
  },
  {
   "cell_type": "markdown",
   "metadata": {},
   "source": [
    "### Use of `na_values` parameter in `read_csv()` function of Pandas\n",
    "\n",
    "In the previous examples, we relied on Pandas flexibility and automation. When we read CSV with `.read_csv()`, most of the work has been done for us, based on common data types, and frequently used choices. If your data file is special, you may want to explore and tweak some of the default options.\n",
    "\n",
    "`na_values`: This is used to create a string that considers pandas as `NaN` (Not a Number). By-default pandas consider `#N/A`, `-NaN`, `-n/a`, `N/A`, `NA`, `NULL` etc as `NaN` value. \n",
    "\n",
    "For more information on `na_values` and other parameters of `read_csv()` see [here](https://pandas.pydata.org/pandas-docs/stable/reference/api/pandas.read_csv.html)."
   ]
  },
  {
   "cell_type": "markdown",
   "metadata": {},
   "source": [
    "## Grouping data"
   ]
  },
  {
   "cell_type": "code",
   "execution_count": null,
   "metadata": {},
   "outputs": [],
   "source": [
    "team_medal_count = df.groupby(['Team','Medal']).Medal.agg('count')\n",
    "team_medal_count = team_medal_count.reset_index(name='count').sort_values(['count'], ascending=False) # try reversing order\n",
    "team_medal_count.head(10)"
   ]
  },
  {
   "cell_type": "code",
   "execution_count": null,
   "metadata": {},
   "outputs": [],
   "source": [
    "def get_country_stats(country):\n",
    "    return team_medal_count[team_medal_count.Team==country]"
   ]
  },
  {
   "cell_type": "code",
   "execution_count": null,
   "metadata": {},
   "outputs": [],
   "source": [
    "get_country_stats('Australia')"
   ]
  },
  {
   "cell_type": "code",
   "execution_count": null,
   "metadata": {},
   "outputs": [],
   "source": [
    "get_country_stats('cANadA') "
   ]
  },
  {
   "cell_type": "markdown",
   "metadata": {},
   "source": [
    "> <font color=red>**Homework**</font>: Make `get_country_stats` function case-insensitive. "
   ]
  },
  {
   "cell_type": "markdown",
   "metadata": {},
   "source": [
    "List year(s) when a team won at least one medal:"
   ]
  },
  {
   "cell_type": "code",
   "execution_count": null,
   "metadata": {},
   "outputs": [],
   "source": [
    "df[df.Team=='Croatia'].Year#.unique()"
   ]
  },
  {
   "cell_type": "code",
   "execution_count": null,
   "metadata": {},
   "outputs": [],
   "source": [
    "unique_women = len(df[df.Sex=='F'].Name.unique())\n",
    "unique_men = len(df[df.Sex=='M'].Name.unique())\n",
    "women_medals = df[df.Sex=='F'].Medal.count()\n",
    "men_medals = df[df.Sex=='M'].Medal.count()\n",
    "\n",
    "print(\"{} {} {} {} \".format(unique_women, unique_men, women_medals, men_medals ))\n",
    "\n",
    "df[df.Sex=='F'].Year.min()"
   ]
  },
  {
   "cell_type": "markdown",
   "metadata": {},
   "source": [
    "> <font color=blue>Women in the Olympics:</font> The first Olympic Games to feature female athletes was the 1900 Games in Paris. [link](https://en.wikipedia.org/wiki/Participation_of_women_in_the_Olympics) "
   ]
  },
  {
   "cell_type": "code",
   "execution_count": null,
   "metadata": {},
   "outputs": [],
   "source": [
    "plt.rcParams[\"figure.figsize\"]=[10,4]"
   ]
  },
  {
   "cell_type": "code",
   "execution_count": null,
   "metadata": {},
   "outputs": [],
   "source": [
    "female = df[df.Sex=='F']\n",
    "year_count = female.groupby('Year').agg('count')\n",
    "years = list(year_count.index)\n",
    "counts =  list(year_count.Name)\n",
    "sns.scatterplot(x = years, y = counts)\n",
    "plt.show()"
   ]
  },
  {
   "cell_type": "code",
   "execution_count": null,
   "metadata": {},
   "outputs": [],
   "source": [
    "f_year_count = df[df.Sex=='F'].groupby('Year').agg('count').Name\n",
    "m_year_count = df[df.Sex=='M'].groupby('Year').agg('count').Name\n",
    "\n",
    "(sns.scatterplot(data= m_year_count),\n",
    " sns.scatterplot(data =f_year_count))\n",
    "plt.show()\n",
    "\n",
    "# vs.\n",
    "\n",
    "(sns.scatterplot(data= m_year_count,label='Male'),\n",
    " sns.scatterplot(data =f_year_count,label='Female'))\n",
    "plt.legend(loc=\"upper left\")\n",
    "plt.show()"
   ]
  },
  {
   "cell_type": "markdown",
   "metadata": {},
   "source": [
    "> <font color=DeepPink>Exercise</font>: What happened at around 1995? Why does the plot doubles?"
   ]
  },
  {
   "cell_type": "code",
   "execution_count": null,
   "metadata": {},
   "outputs": [],
   "source": [
    "df.Sport.value_counts()"
   ]
  },
  {
   "cell_type": "code",
   "execution_count": null,
   "metadata": {},
   "outputs": [],
   "source": [
    "male_df = df[df.Sex=='M']\n",
    "sport_weight_height_metrics = male_df.groupby(['Sport'])[['Weight','Height']].agg(['min','max','mean'])\n",
    "sport_weight_height_metrics"
   ]
  },
  {
   "cell_type": "code",
   "execution_count": null,
   "metadata": {},
   "outputs": [],
   "source": [
    "sport_weight_height_metrics.Weight.dropna().sort_values('mean', ascending=False) #ascending=True? Sort by mean?"
   ]
  },
  {
   "cell_type": "code",
   "execution_count": null,
   "metadata": {},
   "outputs": [],
   "source": [
    "sport_weight_height_metrics.Height.dropna().sort_values('mean', ascending=False)"
   ]
  },
  {
   "cell_type": "code",
   "execution_count": null,
   "metadata": {},
   "outputs": [],
   "source": [
    "sns.displot(sport_weight_height_metrics.Height.dropna()['mean'],bins=15,kde=True); plt.show()"
   ]
  },
  {
   "cell_type": "markdown",
   "metadata": {},
   "source": [
    "### Calculate athletes' BMI \n",
    "\n",
    "$BMI=\\frac{kg}{m^2}$"
   ]
  },
  {
   "cell_type": "code",
   "execution_count": null,
   "metadata": {},
   "outputs": [],
   "source": [
    "sex='M'"
   ]
  },
  {
   "cell_type": "code",
   "execution_count": null,
   "metadata": {},
   "outputs": [],
   "source": [
    "h = df[df.Sex==sex].Height.dropna()/100  # height in meters\n",
    "sns.kdeplot(h,fill=True); plt.show()"
   ]
  },
  {
   "cell_type": "code",
   "execution_count": null,
   "metadata": {},
   "outputs": [],
   "source": [
    "w = df[df.Sex==sex].Weight.dropna()  # weight in meters\n",
    "sns.kdeplot(w,fill=True); plt.show()"
   ]
  },
  {
   "cell_type": "code",
   "execution_count": null,
   "metadata": {},
   "outputs": [],
   "source": [
    "from statistics import mean\n",
    "\n",
    "sns.kdeplot((w/h**2).dropna(),fill=True); plt.show()\n",
    "print(f\"Mean BMI index for althletes of sex {sex} is {mean((w/h**2).dropna()):0.1f}\")"
   ]
  },
  {
   "cell_type": "markdown",
   "metadata": {},
   "source": [
    "***\n",
    "<font color=red> If time permits...</font>\n",
    "Try to go through the examples below that query various subsets of data, set different conditions, and perform dataset slicing. \n",
    "\n",
    "Also, avoid a VERY common mistake in your writing: \"My data are...\" not \"My data is...\". **Data are plural**. Datum is singular. "
   ]
  },
  {
   "cell_type": "code",
   "execution_count": null,
   "metadata": {},
   "outputs": [],
   "source": [
    "means = list(sport_weight_height_metrics.Weight.dropna()['mean'])\n",
    "sports = list(sport_weight_height_metrics.Weight.dropna().index)\n",
    "\n",
    "plot_data = sorted(zip(sports, means), key = lambda x:x[1])\n",
    "plot_data_dict = {\n",
    "    'x' : [i for i, _ in enumerate(plot_data)],\n",
    "    'y' : [v[1] for i, v in enumerate(plot_data)],\n",
    "    'group' :  [v[0] for i, v in enumerate(plot_data)]\n",
    "}\n",
    "sns.scatterplot(data = plot_data_dict, x = 'x' , y = 'y')\n",
    "plt.show()"
   ]
  },
  {
   "cell_type": "code",
   "execution_count": null,
   "metadata": {},
   "outputs": [],
   "source": [
    "print('lightest:')\n",
    "for sport,weight in plot_data[:5]:\n",
    "    print(sport + ': ' + str(weight))\n",
    "\n",
    "print('\\nheaviest:')    \n",
    "for sport,weight in plot_data[-5:]:\n",
    "    print(sport + ': ' + str(weight))"
   ]
  },
  {
   "cell_type": "code",
   "execution_count": null,
   "metadata": {},
   "outputs": [],
   "source": [
    "means = list(sport_weight_height_metrics.Height.dropna()['mean'])\n",
    "sports = list(sport_weight_height_metrics.Height.dropna().index)\n",
    "plot_data = sorted(zip(sports, means), key = lambda x:x[1])\n",
    "plot_data_dict = {\n",
    "    'x' : [i for i, _ in enumerate(plot_data)],\n",
    "    'y' : [v[1] for i, v in enumerate(plot_data)],\n",
    "    'group' :  [v[0] for i, v in enumerate(plot_data)]\n",
    "}\n",
    "sns.scatterplot(data = plot_data_dict, x = 'x' , y = 'y')"
   ]
  },
  {
   "cell_type": "code",
   "execution_count": null,
   "metadata": {},
   "outputs": [],
   "source": [
    "print('shortest:')\n",
    "for sport,height in plot_data[:5]:\n",
    "    print(sport + ': ' + str(height))\n",
    "\n",
    "print('\\ntallest:')    \n",
    "for sport,height in plot_data[-5:]:\n",
    "    print(sport + ': ' + str(height))"
   ]
  },
  {
   "cell_type": "code",
   "execution_count": null,
   "metadata": {},
   "outputs": [],
   "source": [
    "mean_heights = sport_weight_height_metrics.Height.dropna()['mean']\n",
    "mean_weights = sport_weight_height_metrics.Weight.dropna()['mean']\n",
    "avg_build = mean_weights/mean_heights\n",
    "avg_build.sort_values(ascending = True)\n",
    "builds = list(avg_build.sort_values(ascending = True))\n",
    "\n",
    "plot_dict = {'x':[i for i,_ in enumerate(builds)],'y':builds}\n",
    "sns.lineplot(data=plot_dict, x='x', y='y')"
   ]
  },
  {
   "cell_type": "code",
   "execution_count": null,
   "metadata": {},
   "outputs": [],
   "source": [
    "avg_build.sort_values(ascending=False)"
   ]
  },
  {
   "cell_type": "code",
   "execution_count": null,
   "metadata": {},
   "outputs": [],
   "source": [
    "male_df.groupby('Sport').Year.agg(['min','max'])"
   ]
  },
  {
   "cell_type": "code",
   "execution_count": null,
   "metadata": {},
   "outputs": [],
   "source": [
    "sport_min_year = male_df.groupby('Sport').Year.agg(['min','max'])['min'].sort_values()\n",
    "\n",
    "year_count = {}\n",
    "for y in sport_min_year:\n",
    "    try:\n",
    "        year_count[y] += 1\n",
    "    except:\n",
    "        year_count[y] = 1\n",
    "year = [k for k,v in year_count.items()]\n",
    "new_sports = [v for k,v in year_count.items()]\n",
    "\n",
    "data = {'x':year, 'y':new_sports}\n",
    "sns.scatterplot(data=data, x = 'x', y='y')\n",
    "plt.ylabel('New sports added')"
   ]
  },
  {
   "cell_type": "code",
   "execution_count": null,
   "metadata": {},
   "outputs": [],
   "source": [
    "sport_max_year = male_df.groupby('Sport').Year.agg(['min','max'])['max'].sort_values()\n",
    "year_count = {}\n",
    "for y in sport_max_year:\n",
    "    try:\n",
    "        year_count[y] += 1\n",
    "    except:\n",
    "        year_count[y] = 1\n",
    "year = [k for k,v in year_count.items()]\n",
    "deprecated_sports = [v for k,v in year_count.items()]\n",
    "\n",
    "data = {'x':year, 'y':deprecated_sports}\n",
    "sns.scatterplot(data=data, x = 'x', y='y')\n",
    "plt.ylabel('Number of sports deprecated')"
   ]
  },
  {
   "cell_type": "code",
   "execution_count": null,
   "metadata": {},
   "outputs": [],
   "source": [
    "sport_max_year[sport_max_year <2000]"
   ]
  },
  {
   "cell_type": "code",
   "execution_count": null,
   "metadata": {},
   "outputs": [],
   "source": [
    "sport_min_year[sport_min_year >1936]"
   ]
  },
  {
   "cell_type": "markdown",
   "metadata": {},
   "source": [
    "# References\n",
    "\n",
    "* https://towardsdatascience.com/exploratory-statistical-data-analysis-with-a-real-dataset-using-pandas-208007798b92\n"
   ]
  },
  {
   "cell_type": "code",
   "execution_count": null,
   "metadata": {},
   "outputs": [],
   "source": []
  }
 ],
 "metadata": {
  "kernelspec": {
   "display_name": "Python 3 (ipykernel)",
   "language": "python",
   "name": "python3"
  },
  "language_info": {
   "codemirror_mode": {
    "name": "ipython",
    "version": 3
   },
   "file_extension": ".py",
   "mimetype": "text/x-python",
   "name": "python",
   "nbconvert_exporter": "python",
   "pygments_lexer": "ipython3",
   "version": "3.11.7"
  }
 },
 "nbformat": 4,
 "nbformat_minor": 4
}
