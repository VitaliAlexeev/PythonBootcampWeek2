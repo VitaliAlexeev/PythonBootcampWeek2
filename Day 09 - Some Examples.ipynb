{
 "cells": [
  {
   "cell_type": "code",
   "execution_count": null,
   "metadata": {},
   "outputs": [],
   "source": [
    "import pandas as pd\n",
    "import numpy as np\n",
    "import matplotlib.pyplot as plt\n",
    "\n",
    "import seaborn as sns\n",
    "import matplotlib"
   ]
  },
  {
   "cell_type": "code",
   "execution_count": null,
   "metadata": {},
   "outputs": [],
   "source": [
    "# Check package version\n",
    "#!pip list\n",
    "!pip show seaborn\n",
    "#dir(sns)"
   ]
  },
  {
   "cell_type": "markdown",
   "metadata": {},
   "source": [
    "## Two $y$-axes"
   ]
  },
  {
   "cell_type": "code",
   "execution_count": null,
   "metadata": {},
   "outputs": [],
   "source": [
    "gapminder = pd.read_csv('data/gapminder-FiveYearData.csv')\n",
    "gapminder"
   ]
  },
  {
   "cell_type": "markdown",
   "metadata": {},
   "source": [
    "Let us subset gapminder data by using Pandas query functionality to filter for rows with Australia."
   ]
  },
  {
   "cell_type": "code",
   "execution_count": null,
   "metadata": {},
   "outputs": [],
   "source": [
    "gapminder_subset = gapminder[gapminder.country==\"Australia\"]\n",
    "gapminder_subset"
   ]
  },
  {
   "cell_type": "markdown",
   "metadata": {},
   "source": [
    "Naively, let us plot both on the same plot with a single y-axis."
   ]
  },
  {
   "cell_type": "code",
   "execution_count": null,
   "metadata": {},
   "outputs": [],
   "source": [
    "# create figure and axis objects with subplots()\n",
    "fig,ax=plt.subplots()\n",
    "ax.plot(gapminder_subset.year, gapminder_subset.lifeExp, marker=\"o\")\n",
    "ax.set_xlabel(\"Year\")\n",
    "ax.set_ylabel(\"Life Expectancy\")\n",
    "ax.plot(gapminder_subset.year, gapminder_subset[\"gdpPercap\"], marker=\"o\")\n",
    "plt.show()"
   ]
  },
  {
   "cell_type": "markdown",
   "metadata": {},
   "source": [
    "We can immediately see that this is a bad idea. The line for `lifeExp` over years is flat and really low. We don't see any variation in it because of the scale of `gdpPercap` values.\n",
    "\n",
    "One of the solutions is to make the plot with two different y-axes. The way to make a plot with two different y-axis is to use two different axes objects with the help of `twinx()` function.\n",
    "\n",
    "We first create figure and axis objects and make a first plot. In this example, we plot `year` vs `lifeExp`. And we also set the x and y-axis labels by updating the axis object."
   ]
  },
  {
   "cell_type": "code",
   "execution_count": null,
   "metadata": {},
   "outputs": [],
   "source": [
    "# create figure and axis objects with subplots()\n",
    "fig,ax = plt.subplots()\n",
    "\n",
    "# make a plot\n",
    "ax.plot(gapminder_subset.year, gapminder_subset.lifeExp, color=\"red\", marker=\"o\")\n",
    "\n",
    "# set x-axis label\n",
    "ax.set_xlabel(\"year\",fontsize=14)\n",
    "\n",
    "# set y-axis label\n",
    "ax.set_ylabel(\"lifeExp\",color=\"red\",fontsize=14)\n",
    "\n",
    "# twin object for two different y-axis on the sample plot\n",
    "ax2=ax.twinx()\n",
    "\n",
    "# make a plot with different y-axis using second axis object\n",
    "ax2.plot(gapminder_subset.year, gapminder_subset[\"gdpPercap\"],color=\"blue\",marker=\"o\")\n",
    "ax2.set_ylabel(\"gdpPercap\",color=\"blue\",fontsize=14)\n",
    "plt.show()\n",
    "\n",
    "# save the plot as a file\n",
    "fig.savefig('Figure01.jpg',\n",
    "            format='jpeg',\n",
    "            dpi=100,\n",
    "            bbox_inches='tight')"
   ]
  },
  {
   "cell_type": "markdown",
   "metadata": {},
   "source": [
    "## Sentiment Analysis with `textblob`\n",
    "\n",
    "**Sentiment Analysis** is the process of computationally identifying and categorizing opinions expressed in a piece of text, especially in order to determine whether the writer's attitude towards a particular topic, product, etc. is positive, negative, or neutral.\n",
    "\n",
    "**Sentiment Labels**:\n",
    "\n",
    "Each word in a corpus is labeled in terms of polarity and subjectivity (there are more labels as well, but we're going to ignore them for now). A corpus sentiment is the average of these.\n",
    "\n",
    "- Polarity: How positive or negative a word is. -1 is very negative. +1 is very positive.\n",
    "- Subjectivity: How subjective, or opinionated a word is. 0 is fact. +1 is very much an opinion.\n",
    "\n",
    "How to find Polarity and Subjectivity of document?\n",
    "\n",
    "`textblob` finds all of the words and phrases, than it can assign a polarity and subjectivity to all words, average all of them together and return final polarity, subjectivity."
   ]
  },
  {
   "cell_type": "code",
   "execution_count": null,
   "metadata": {},
   "outputs": [],
   "source": [
    "#import sys\n",
    "#!{sys.executable} -m pip install textblob"
   ]
  },
  {
   "cell_type": "code",
   "execution_count": null,
   "metadata": {},
   "outputs": [],
   "source": [
    "from textblob import TextBlob"
   ]
  },
  {
   "cell_type": "code",
   "execution_count": null,
   "metadata": {},
   "outputs": [],
   "source": [
    "TextBlob(\"great\").sentiment"
   ]
  },
  {
   "cell_type": "code",
   "execution_count": null,
   "metadata": {},
   "outputs": [],
   "source": [
    "TextBlob(\"not great\").sentiment"
   ]
  },
  {
   "cell_type": "code",
   "execution_count": null,
   "metadata": {},
   "outputs": [],
   "source": [
    "TextBlob(\"My tea is green.\").sentiment"
   ]
  },
  {
   "cell_type": "code",
   "execution_count": null,
   "metadata": {},
   "outputs": [],
   "source": [
    "TextBlob(\"This is a very bad idea.\").sentiment"
   ]
  },
  {
   "cell_type": "code",
   "execution_count": null,
   "metadata": {},
   "outputs": [],
   "source": [
    "TextBlob(\"This is not such a bad idea.\").sentiment"
   ]
  },
  {
   "cell_type": "markdown",
   "metadata": {},
   "source": [
    "## Plots in `seaborn`\n",
    "\n",
    "`Seaborn` is a library for making statistical graphics in Python. It builds on top of `matplotlib` and integrates closely with pandas data structures .\n",
    "\n",
    "`Seaborn` design allows you to explore and understand your data quickly. `Seaborn` works by capturing entire `dataframes` or arrays containing all your data and performing all the internal functions necessary for semantic mapping and statistical aggregation to convert data into informative plots.\n",
    "\n",
    "It abstracts complexity while allowing you to design your plots to your requirements."
   ]
  },
  {
   "cell_type": "code",
   "execution_count": null,
   "metadata": {},
   "outputs": [],
   "source": [
    "flights_data = sns.load_dataset(\"flights\")\n",
    "flights_data.head()"
   ]
  },
  {
   "cell_type": "code",
   "execution_count": null,
   "metadata": {},
   "outputs": [],
   "source": [
    "sns.scatterplot(data=flights_data, x=\"year\", y=\"passengers\");plt.show()"
   ]
  },
  {
   "cell_type": "code",
   "execution_count": null,
   "metadata": {},
   "outputs": [],
   "source": [
    "sns.lineplot(data=flights_data, x=\"year\", y=\"passengers\");plt.show()"
   ]
  },
  {
   "cell_type": "code",
   "execution_count": null,
   "metadata": {},
   "outputs": [],
   "source": [
    "sns.barplot(data=flights_data, x=\"year\", y=\"passengers\");plt.show()"
   ]
  },
  {
   "cell_type": "markdown",
   "metadata": {},
   "source": [
    "### Tips"
   ]
  },
  {
   "cell_type": "code",
   "execution_count": null,
   "metadata": {},
   "outputs": [],
   "source": [
    "tips_df = sns.load_dataset('tips')\n",
    "tips_df.head()"
   ]
  },
  {
   "cell_type": "markdown",
   "metadata": {},
   "source": [
    "Let's create an additional column to the data set with the percentage that represents the tip amount over the total of the bill."
   ]
  },
  {
   "cell_type": "code",
   "execution_count": null,
   "metadata": {},
   "outputs": [],
   "source": [
    "tips_df[\"tip_percentage\"] = tips_df[\"tip\"] / tips_df[\"total_bill\"]\n",
    "tips_df.head()"
   ]
  },
  {
   "cell_type": "code",
   "execution_count": null,
   "metadata": {},
   "outputs": [],
   "source": [
    "sns.histplot(tips_df[\"tip_percentage\"], binwidth=0.05,\n",
    "             kde=True); plt.show()"
   ]
  },
  {
   "cell_type": "markdown",
   "metadata": {},
   "source": [
    "In the next plot, we will load the chart with the full dataset instead of just one column, and then we will set the property `hue` to the column `time`. This will force the chart to use different colors for each value of time and add a legend to it."
   ]
  },
  {
   "cell_type": "code",
   "execution_count": null,
   "metadata": {},
   "outputs": [],
   "source": [
    "sns.histplot(data=tips_df, \n",
    "             x=\"tip_percentage\", \n",
    "             binwidth=0.02, \n",
    "             hue=\"time\"); plt.show() # try other categories..."
   ]
  },
  {
   "cell_type": "markdown",
   "metadata": {},
   "source": [
    "**Total of tips per day of the week** is another interesting metric that shows how much money in tips can the personnel expect depending on the day of the week."
   ]
  },
  {
   "cell_type": "code",
   "execution_count": null,
   "metadata": {},
   "outputs": [],
   "source": [
    "sns.barplot(data=tips_df, x=\"day\", y=\"tip\", estimator=np.sum); \n",
    "# NOTE: plt.show() was not used, instead ; is used to supress the text after the figure"
   ]
  },
  {
   "cell_type": "markdown",
   "metadata": {},
   "source": [
    "**Impact of table size and day on the tip.** Does the day of the week and the table size impact the tip percentage? To draw the next chart we will combine the pivot function of pandas to pre-process the information and then draw a heatmap chart."
   ]
  },
  {
   "cell_type": "code",
   "execution_count": null,
   "metadata": {},
   "outputs": [],
   "source": [
    "pivot = tips_df.pivot_table(\n",
    "    index=[\"day\"],\n",
    "    columns=[\"size\"],\n",
    "    values=\"tip_percentage\",\n",
    "    aggfunc=np.average,\n",
    "    observed=False)\n",
    "sns.heatmap(pivot)"
   ]
  },
  {
   "cell_type": "code",
   "execution_count": null,
   "metadata": {},
   "outputs": [],
   "source": [
    "pivot"
   ]
  },
  {
   "cell_type": "code",
   "execution_count": null,
   "metadata": {},
   "outputs": [],
   "source": [
    "sns.heatmap(pivot,\n",
    "            annot=True,       # include annotations\n",
    "            fmt=\"0.4f\",\n",
    "            linewidths=.5,    # line gap between cells\n",
    "            cmap=\"YlGnBu\",    \n",
    "            center=pivot.loc[\"Sat\", 4],\n",
    "            xticklabels=1, yticklabels=True,\n",
    "            cbar=True);"
   ]
  },
  {
   "cell_type": "markdown",
   "metadata": {},
   "source": [
    "## Visualize missing values (NaN) values using `Missingno` Library"
   ]
  },
  {
   "cell_type": "code",
   "execution_count": null,
   "metadata": {},
   "outputs": [],
   "source": [
    "#!pip show missingno"
   ]
  },
  {
   "cell_type": "code",
   "execution_count": null,
   "metadata": {},
   "outputs": [],
   "source": [
    "# If the packege is currently exists in the system, \n",
    "# installing it again will not upgrade the current version.\n",
    "\n",
    "# You can\n",
    "# 1. uninstall the current version and install a new one\n",
    "# 2. upgrade\n",
    "# 3. install the version by specifying the exact version number you need, as in the example below:\n",
    "\n",
    "#import sys\n",
    "#!{sys.executable} -m pip install missingno==0.5.2"
   ]
  },
  {
   "cell_type": "code",
   "execution_count": null,
   "metadata": {},
   "outputs": [],
   "source": [
    "import missingno as msno"
   ]
  },
  {
   "cell_type": "code",
   "execution_count": null,
   "metadata": {},
   "outputs": [],
   "source": [
    "df = pd.read_csv('data/athlete_events.csv')"
   ]
  },
  {
   "cell_type": "code",
   "execution_count": null,
   "metadata": {},
   "outputs": [],
   "source": [
    "msno.matrix(df);"
   ]
  },
  {
   "cell_type": "code",
   "execution_count": null,
   "metadata": {},
   "outputs": [],
   "source": [
    "msno.bar(df);"
   ]
  },
  {
   "cell_type": "markdown",
   "metadata": {},
   "source": [
    "**Heatmap** shows the correlation of \"missingness\" between every 2 columns. "
   ]
  },
  {
   "cell_type": "code",
   "execution_count": null,
   "metadata": {},
   "outputs": [],
   "source": [
    "msno.heatmap(df);"
   ]
  },
  {
   "cell_type": "code",
   "execution_count": null,
   "metadata": {},
   "outputs": [],
   "source": []
  }
 ],
 "metadata": {
  "kernelspec": {
   "display_name": "Python 3 (ipykernel)",
   "language": "python",
   "name": "python3"
  },
  "language_info": {
   "codemirror_mode": {
    "name": "ipython",
    "version": 3
   },
   "file_extension": ".py",
   "mimetype": "text/x-python",
   "name": "python",
   "nbconvert_exporter": "python",
   "pygments_lexer": "ipython3",
   "version": "3.11.7"
  }
 },
 "nbformat": 4,
 "nbformat_minor": 4
}
