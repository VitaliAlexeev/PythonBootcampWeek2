{
 "cells": [
  {
   "cell_type": "markdown",
   "metadata": {},
   "source": [
    "# Day 6 - Pandas Data Frames\n",
    "\n",
    "Data frame is a way to store data in rectangular grids that can easily be viewed. They are defined as two-dimensional labeled data structures with columns of potentially different types. Each row of these grids corresponds to measurements or values of an instance, while each column is a vector containing data for a specific variable. This means that a data frame's rows do not need to contain, but can contain, the same type of values: they can be numeric, character, logical, etc.  \n",
    "\n",
    "[Pandas](https://en.wikipedia.org/wiki/Pandas_(software)) DataFrame consists of five main components: \n",
    "\n",
    "`pandas.DataFrame( data, index, columns, dtype, copy)`  \n",
    "\n",
    "- the **data** (various forms like `ndarray`, `series`, `lists`, `dict`, constants and also another `DataFrame`), \n",
    "- the **index** (row labels),  \n",
    "- the **columns** (column labels),\n",
    "- `dtype` (data type of each column), and\n",
    "- `copy` (used for copying of data).\n",
    "\n",
    "<div>\n",
    "<img src=data/images/PandasDataFrame01.jpg width=\"500\"/>\n",
    "</div>\n",
    "\n",
    "\n",
    "Firstly, the DataFrame can contain data that is:\n",
    "- a Pandas `DataFrame`\n",
    "- a Pandas `Series`: a one-dimensional labeled array capable of holding any data type with axis labels or index. An example of a Series object is one column from a DataFrame.\n",
    "- a NumPy `ndarray`, which can be a record or structured \n",
    "- a two-dimensional ndarray\n",
    "- dictionaries of one-dimensional `ndarray`'s, lists, dictionaries or Series.\n",
    "\n",
    "Note the difference between `np.ndarray` (an actual data type) and `np.array()` (a function to make arrays from other data structures).\n",
    "\n",
    "![](data/images/PandasDataFrame02.png)\n"
   ]
  },
  {
   "cell_type": "code",
   "execution_count": null,
   "metadata": {},
   "outputs": [],
   "source": [
    "# Your Notebook should start with the imports of all required packages. \n",
    "# You can amend it as you go along.\n",
    "\n",
    "# IMPORTANT: If you made modifications to a package (e.g., added a new function to utsbootcamp.py),\n",
    "# you must restart the kernel and import it again. Menu->Kernel->Restart\n",
    "\n",
    "import numpy as np\n",
    "\n",
    "import pandas as pd\n",
    "# You can set this up at the start of your Notebook (after you imported pandas package) as a global parameter\n",
    "#pd.options.display.max_rows = 4\n",
    "#pd.options.display.max_columns = 6\n",
    "#pd.options.display.precision = 2\n",
    "# To reset options to their default alues, use one of the following two:\n",
    "#pd.reset_option('^display.', silent=True)    # reset only display option to their default values\n",
    "#pd.reset_option(\"all\")                      # reset all pandas options to defaults\n",
    "# more on Pandas options: https://queirozf.com/entries/pandas-display-options-examples-and-reference\n",
    "\n",
    "import yfinance as yf\n",
    "\n",
    "import matplotlib.pyplot as plt\n",
    "# Set default parameters for 'matplotlib' package\n",
    "# More info on tweaking default parameters: https://matplotlib.org/stable/tutorials/introductory/customizing.html\n",
    "plt.rcParams[\"figure.figsize\"] = [10,8]  # Set default figure size\n",
    "\n",
    "import datetime as dt\n",
    "import utsbootcamp as bc"
   ]
  },
  {
   "cell_type": "markdown",
   "metadata": {},
   "source": [
    "### Spellchecker for Jupyter Notebook\n",
    "\n",
    "Following several attempts based on the instructions [here](https://jupyter-contrib-nbextensions.readthedocs.io/en/latest/install.html), I was able to install the spell check extension for Jupyter Notebook markdown cells. I ran the following three commands in **Anaconda Prompt**:\n",
    "\n",
    "1. `conda install -c conda-forge jupyter_contrib_nbextensions`\n",
    "2. `jupyter contrib nbextension install --system` and then also `jupyter contrib nbextension install --user` just to make sure (one is for all users - system-wide; the second one is for a specific current user)\n",
    "3. `jupyter nbextension enable codefolding/main`\n",
    "\n",
    "Eventually, it worked."
   ]
  },
  {
   "cell_type": "markdown",
   "metadata": {},
   "source": [
    "## Recap"
   ]
  },
  {
   "cell_type": "code",
   "execution_count": null,
   "metadata": {},
   "outputs": [],
   "source": [
    "help(bc.get_yahoo_data)"
   ]
  },
  {
   "cell_type": "code",
   "execution_count": null,
   "metadata": {},
   "outputs": [],
   "source": [
    "x=bc.get_yahoo_data({'INTC': 'Intel','BHP': 'BHP','AMZN': 'Amazon','GME': 'GameStop'},\n",
    "                 start='2020-01-01',\n",
    "                 end='2020-12-31',\n",
    "                 column='High',\n",
    "                 plot=True)"
   ]
  },
  {
   "cell_type": "code",
   "execution_count": null,
   "metadata": {},
   "outputs": [],
   "source": [
    "x.head(5)"
   ]
  },
  {
   "cell_type": "code",
   "execution_count": null,
   "metadata": {},
   "outputs": [],
   "source": [
    "y=bc.price2cret(x)\n",
    "y.head()"
   ]
  },
  {
   "cell_type": "markdown",
   "metadata": {},
   "source": [
    "### Subset of data based on several conditions"
   ]
  },
  {
   "cell_type": "markdown",
   "metadata": {},
   "source": [
    "Option 1: \n",
    "\n",
    "<font size=\"6\"> **df.loc**<font color=blue> [</font> <font color=Crimson> (cond1)</font> <font color=Magenta>&</font> <font color=Crimson>(cond2)</font> , <font color=SpringGreen> [</font>col1, col2<font color=SpringGreen> ] </font> <font color=blue> ]</font> </font>"
   ]
  },
  {
   "cell_type": "code",
   "execution_count": null,
   "metadata": {},
   "outputs": [],
   "source": [
    "y.loc[ (y.BHP<0) & (y.AMZN<0), ['BHP', 'AMZN']].head(10)"
   ]
  },
  {
   "cell_type": "markdown",
   "metadata": {},
   "source": [
    "Option 2: (the second blue bracket is optional)\n",
    "\n",
    "<font size=\"6\"> **df.query**<font color=blue> (</font> <font color=Crimson> 'cond1</font> <font color=Magenta>&</font> <font color=Crimson>cond2'</font> <font color=blue> )</font> <font color=blue> [</font> <font color=SpringGreen> [</font>col1, col2<font color=SpringGreen> ]  </font> <font color=blue> ]</font> </font>"
   ]
  },
  {
   "cell_type": "code",
   "execution_count": null,
   "metadata": {},
   "outputs": [],
   "source": [
    "y.query('BHP<0 & AMZN<0')[['BHP', 'AMZN']]"
   ]
  },
  {
   "cell_type": "markdown",
   "metadata": {},
   "source": [
    "Option 3: \n",
    "\n",
    "<font size=\"6\"> **df**<font color=blue> [</font> <font color=Crimson> (cond1)</font> <font color=Magenta>&</font> <font color=Crimson>(cond2)</font> <font color=blue> ]</font> <font color=blue> [</font> <font color=SpringGreen> [</font>col1, col2<font color=SpringGreen> ]  </font> <font color=blue> ]</font> </font>"
   ]
  },
  {
   "cell_type": "code",
   "execution_count": null,
   "metadata": {},
   "outputs": [],
   "source": [
    "y[ (y.BHP<0) & (y.AMZN<0) ][['BHP', 'AMZN']].head(10)"
   ]
  },
  {
   "cell_type": "markdown",
   "metadata": {},
   "source": [
    "**Running ahead:** Consider various options for plotting [here](https://matplotlib.org/stable/api/_as_gen/matplotlib.pyplot.plot.html)"
   ]
  },
  {
   "cell_type": "code",
   "execution_count": null,
   "metadata": {},
   "outputs": [],
   "source": [
    "y.plot(title='Cumulative Returns',figsize=(14,8),\n",
    "         drawstyle='steps',\n",
    "         linewidth=5,\n",
    "         alpha=0.5)\n",
    "plt.grid(axis='y',alpha=0.2,color='k', linestyle=':', linewidth=3)"
   ]
  },
  {
   "cell_type": "code",
   "execution_count": null,
   "metadata": {},
   "outputs": [],
   "source": [
    "y.plot(title='Cumulative Returns',figsize=(14,8),\n",
    "         drawstyle='steps',\n",
    "         linewidth=5,\n",
    "         alpha=0.5,\n",
    "      subplots=True)\n",
    "\n",
    "# Since now you are ploting sublots, make sure you declare titles for each subplot. Best way is to get column names from your pandas DataFrame.\n",
    "# How?\n",
    "# Tip: y.columns\n",
    "# Is the object type ok or does it need to be converted?"
   ]
  },
  {
   "cell_type": "markdown",
   "metadata": {},
   "source": [
    "## Creating `pandas` DataFrames\n"
   ]
  },
  {
   "cell_type": "markdown",
   "metadata": {},
   "source": [
    "Creating an empty DataFrame"
   ]
  },
  {
   "cell_type": "code",
   "execution_count": null,
   "metadata": {},
   "outputs": [],
   "source": [
    "df = pd.DataFrame()\n",
    "print(df)"
   ]
  },
  {
   "cell_type": "markdown",
   "metadata": {},
   "source": [
    "Creating a DataFrame from Lists"
   ]
  },
  {
   "cell_type": "code",
   "execution_count": null,
   "metadata": {},
   "outputs": [],
   "source": [
    "data = [1,2,3,4,5]\n",
    "df = pd.DataFrame(data, dtype=None) # Try dtype=float; dtype=int;      dtype=None (infer types automaticly)\n",
    "df"
   ]
  },
  {
   "cell_type": "code",
   "execution_count": null,
   "metadata": {},
   "outputs": [],
   "source": [
    "data = [['Alex',10],['Bob',12],['Clarke',13]]\n",
    "df = pd.DataFrame(data,columns=['Name','Age'])\n",
    "df"
   ]
  },
  {
   "cell_type": "code",
   "execution_count": null,
   "metadata": {},
   "outputs": [],
   "source": [
    "df = pd.DataFrame(data,columns=['Name','Age']) \n",
    "df"
   ]
  },
  {
   "cell_type": "markdown",
   "metadata": {},
   "source": [
    "Creating a DataFrame from `dict` of ndarrays / Lists"
   ]
  },
  {
   "cell_type": "code",
   "execution_count": null,
   "metadata": {},
   "outputs": [],
   "source": [
    "data = {'Name':['Tom', 'Jack', 'Steve', 'Ricky'],'Age':[28,34,29,42]}\n",
    "df = pd.DataFrame(data)\n",
    "df"
   ]
  },
  {
   "cell_type": "markdown",
   "metadata": {},
   "source": [
    "Change index labels in a dataframe:"
   ]
  },
  {
   "cell_type": "code",
   "execution_count": null,
   "metadata": {},
   "outputs": [],
   "source": [
    "df = pd.DataFrame(data, index=['rank1','rank2','rank3','rank4'])\n",
    "df"
   ]
  },
  {
   "cell_type": "markdown",
   "metadata": {},
   "source": [
    "Define an array"
   ]
  },
  {
   "cell_type": "code",
   "execution_count": null,
   "metadata": {},
   "outputs": [],
   "source": [
    "data = np.array([['','Col1','Col2'],\n",
    "                ['Row1',1,2],\n",
    "                ['Row2',3,4]])\n",
    "print(data)                "
   ]
  },
  {
   "cell_type": "markdown",
   "metadata": {},
   "source": [
    "Select relevant portions from your array to define your DataFrame (e.g., data, index labels, and column names). \n",
    "\n",
    "Recall that you index rows first and THEN columns (and don't forget that the indices start at 0!) "
   ]
  },
  {
   "cell_type": "code",
   "execution_count": null,
   "metadata": {},
   "outputs": [],
   "source": [
    "df=pd.DataFrame(data=data[1:,1:],        # values\n",
    "                  index=data[1:,0],      # 1st column as index\n",
    "                  columns=data[0,1:])    # 1st row as the column names\n",
    "display(df)"
   ]
  },
  {
   "cell_type": "markdown",
   "metadata": {},
   "source": [
    "If you array contains only data values, converting it to DataFrame is simple:"
   ]
  },
  {
   "cell_type": "code",
   "execution_count": null,
   "metadata": {},
   "outputs": [],
   "source": [
    "my_array = np.array([[1, 2, 3], [4, 5, 6]])"
   ]
  },
  {
   "cell_type": "code",
   "execution_count": null,
   "metadata": {},
   "outputs": [],
   "source": [
    "print('Below is a \\'print\\' of an array:')\n",
    "print(my_array,'\\n')\n",
    "\n",
    "print('Below is a \\'print\\' of a DataFrame:')\n",
    "print(pd.DataFrame(my_array),'\\n')\n",
    "# vs.\n",
    "print('Below is a \\'display\\' of a DataFrame:')\n",
    "display(pd.DataFrame(my_array))\n",
    "\n",
    "# use \"print()\" use \"display()\" to show output that is not from the last line"
   ]
  },
  {
   "cell_type": "code",
   "execution_count": null,
   "metadata": {},
   "outputs": [],
   "source": [
    "# Take a dictionary as input to your DataFrame \n",
    "my_dict = {1: ['1', '3'], 2: ['1', '2'], 3: ['2', '4']}\n",
    "print(my_dict,'\\n')\n",
    "pd.DataFrame(my_dict)"
   ]
  },
  {
   "cell_type": "code",
   "execution_count": null,
   "metadata": {},
   "outputs": [],
   "source": [
    "# Take a part of DataFrame as input to your new DataFrame \n",
    "data = {'Name':['Tom', 'Jack', 'Steve', 'Ricky'],'Age':[28,34,29,42]}\n",
    "df = pd.DataFrame(data)\n",
    "print('Original DataFrame:')\n",
    "display(df)\n",
    "\n",
    "\n",
    "#my_df = pd.DataFrame(data=df, index=range(0,4), columns=['Age'])\n",
    "my_df = pd.DataFrame(data=df, index=range(1,5), columns=['Name'])\n",
    "print('New DataFrame:')\n",
    "my_df"
   ]
  },
  {
   "cell_type": "code",
   "execution_count": null,
   "metadata": {},
   "outputs": [],
   "source": [
    "# Take a Series as input to your DataFrame\n",
    "my_series = pd.Series({\"Belgium\":\"Brussels\", \n",
    "                       \"India\":\"New Delhi\", \n",
    "                       \"United Kingdom\":\"London\", \n",
    "                       \"United States\":\"Washington\"})\n",
    "print(my_series,'\\n')     # Show output - Option 1\n",
    "pd.DataFrame(my_series)   # Show output - Option 2"
   ]
  },
  {
   "cell_type": "code",
   "execution_count": null,
   "metadata": {
    "scrolled": true
   },
   "outputs": [],
   "source": [
    "pd.DataFrame(my_series, columns=['Country','Capital']) # Error"
   ]
  },
  {
   "cell_type": "code",
   "execution_count": null,
   "metadata": {},
   "outputs": [],
   "source": [
    "pd.DataFrame(my_series, columns=['Capital City'])"
   ]
  },
  {
   "cell_type": "markdown",
   "metadata": {},
   "source": [
    "> <font color=blue>Issue:</font> What gives? Why didn't it work the first time?"
   ]
  },
  {
   "cell_type": "markdown",
   "metadata": {},
   "source": [
    "After you have created your DataFrame, you can use the `shape` property or the `len()` function in combination with the `.index` property to investigate and summarise the data frame. The `shape` property will provide you with the dimensions of your DataFrame. That means that you will get to know the width and the height of your DataFrame. On the other hand, the `len()` function, in combination with the `index` property, will only give you information on the height of your DataFrame."
   ]
  },
  {
   "cell_type": "code",
   "execution_count": null,
   "metadata": {},
   "outputs": [],
   "source": [
    "df = pd.DataFrame(\n",
    "    {\"a\" : [4 ,5, 6],\n",
    "    \"b\" : [7, 8, 9],\n",
    "    \"c\" : [10, 11, 12],\n",
    "    \"d\" : [13, 14, 15]},\n",
    "    index = [1, 2, 3])\n",
    "display(df)\n",
    "\n",
    "# Use the `shape` property\n",
    "print('shape property: ',df.shape,'\\n')\n",
    "\n",
    "# Or use the `len()` function with the `index` property\n",
    "print('len() property: ',len(df.index),'\\n')"
   ]
  },
  {
   "cell_type": "code",
   "execution_count": null,
   "metadata": {},
   "outputs": [],
   "source": [
    "len(df)"
   ]
  },
  {
   "cell_type": "code",
   "execution_count": null,
   "metadata": {},
   "outputs": [],
   "source": [
    "df[\"a\"].count() # Count elements in column \"a\". Will exclude the NaN values (if there are any)."
   ]
  },
  {
   "cell_type": "code",
   "execution_count": null,
   "metadata": {},
   "outputs": [],
   "source": [
    "df.columns           # This is an index object\n",
    "df.columns.values    # This is an array object\n",
    "\n",
    "print(f'\\'df.columns is of type \\t: {type(df.columns)}')\n",
    "print(f'\\'df.columns is of type \\t: {type(df.columns.values)}')"
   ]
  },
  {
   "cell_type": "code",
   "execution_count": null,
   "metadata": {},
   "outputs": [],
   "source": [
    "list(df.columns.values) # vs. list(df.columns) - any difference? should we care?"
   ]
  },
  {
   "cell_type": "markdown",
   "metadata": {},
   "source": [
    "## Simulate data and dates\n",
    "This is useful if you want to check your code to see if it works properly. For example, instead of finding and loading time series data, you can create your own with specific properties and check your `def`s and functions, or perform Monte Carlo simulations."
   ]
  },
  {
   "cell_type": "code",
   "execution_count": null,
   "metadata": {},
   "outputs": [],
   "source": [
    "dftest=pd.DataFrame(np.random.rand(20,5)) # 5 columns and 20 rows of random floats"
   ]
  },
  {
   "cell_type": "code",
   "execution_count": null,
   "metadata": {},
   "outputs": [],
   "source": [
    "dftest"
   ]
  },
  {
   "cell_type": "code",
   "execution_count": null,
   "metadata": {},
   "outputs": [],
   "source": [
    "dftest.index = pd.date_range('2020/1/30', periods=dftest.shape[0]) # Add a date index "
   ]
  },
  {
   "cell_type": "code",
   "execution_count": null,
   "metadata": {},
   "outputs": [],
   "source": [
    "dftest"
   ]
  },
  {
   "cell_type": "markdown",
   "metadata": {},
   "source": [
    "## Viewing and inspecting data"
   ]
  },
  {
   "cell_type": "code",
   "execution_count": null,
   "metadata": {},
   "outputs": [],
   "source": [
    "dftest.info()"
   ]
  },
  {
   "cell_type": "code",
   "execution_count": null,
   "metadata": {},
   "outputs": [],
   "source": [
    "dftest.describe()"
   ]
  },
  {
   "cell_type": "code",
   "execution_count": null,
   "metadata": {},
   "outputs": [],
   "source": [
    "# Rename columns (replaces existing list of column names with a new list)\n",
    "dftest.columns = ['a','b','c','d','e']"
   ]
  },
  {
   "cell_type": "code",
   "execution_count": null,
   "metadata": {},
   "outputs": [],
   "source": [
    "dftest.head(2)"
   ]
  },
  {
   "cell_type": "code",
   "execution_count": null,
   "metadata": {},
   "outputs": [],
   "source": [
    "# Rename specific column(s)- provide a dictionary variable \n",
    "# {'old_name1':'new_name1', 'old_name2':'new_name2'}\n",
    "# Optionally, save the changes to the same variable by using \"inplace=True\" option\n",
    "dftest.rename(columns={'a':'A', 'e':'E'}, inplace=True)"
   ]
  },
  {
   "cell_type": "code",
   "execution_count": null,
   "metadata": {},
   "outputs": [],
   "source": [
    "dftest.head(2)"
   ]
  },
  {
   "cell_type": "markdown",
   "metadata": {},
   "source": [
    "## Reshaping data\n"
   ]
  },
  {
   "cell_type": "code",
   "execution_count": null,
   "metadata": {},
   "outputs": [],
   "source": [
    "df"
   ]
  },
  {
   "cell_type": "code",
   "execution_count": null,
   "metadata": {},
   "outputs": [],
   "source": [
    "pd.melt(df) # Recall: this will not save the changes to your variable \"df\""
   ]
  },
  {
   "cell_type": "code",
   "execution_count": null,
   "metadata": {},
   "outputs": [],
   "source": [
    "df.sort_values('d',ascending=False) # Try `ascending=False` or a different column name"
   ]
  },
  {
   "cell_type": "code",
   "execution_count": null,
   "metadata": {},
   "outputs": [],
   "source": [
    "df.rename(columns = {'d':'D'})"
   ]
  },
  {
   "cell_type": "code",
   "execution_count": null,
   "metadata": {},
   "outputs": [],
   "source": [
    "# the variable \"df\" did not change \n",
    "# (you did not save the changes you made nor did you assign it to another variable)\n",
    "df"
   ]
  },
  {
   "cell_type": "markdown",
   "metadata": {},
   "source": [
    "## Sorting "
   ]
  },
  {
   "cell_type": "code",
   "execution_count": null,
   "metadata": {},
   "outputs": [],
   "source": [
    "df_sorted=df.sort_values('d',ascending=False);\n",
    "display(df_sorted)\n",
    "df_sorted.sort_index()  # get original DataFrame back"
   ]
  },
  {
   "cell_type": "markdown",
   "metadata": {},
   "source": [
    "> In the example above, I used `display(df)` command to show output. Recall that the output is only displayed from the last line in the multiline cell. To force Python to show output for intermediate code lines, use `print()` or `display()`. For DataFrames, `display()` creates a visually appealing table."
   ]
  },
  {
   "cell_type": "code",
   "execution_count": null,
   "metadata": {},
   "outputs": [],
   "source": [
    "df.drop(columns=['a','d'])"
   ]
  },
  {
   "cell_type": "code",
   "execution_count": null,
   "metadata": {},
   "outputs": [],
   "source": [
    "df # try using `inplace=` agrument in the above"
   ]
  },
  {
   "cell_type": "markdown",
   "metadata": {},
   "source": [
    "## Selecting an Index or Column from a Pandas DataFrame\n",
    "\n",
    "You can either access the values by calling them by their label (`.loc[]`) or by their position in the index or column (`.iloc[]`).   \n",
    "\n",
    "To grasp the concept of `loc` and how it differs from other indexing attributes such as `.iloc[]` and `.ix[]`:\n",
    "\n",
    "- `.loc[]` works on labels of your index. This means that if you give in `loc[2]`, you look for the values of your DataFrame that have an index labeled 2.\n",
    "- `.iloc[]` works on the positions in your index. This means that if you give in `iloc[2]`, you look for the values of your DataFrame that are at index `2`.\n",
    "- (depreciated) `.ix[]` was a more complex case: when the index is integer-based, you pass a label to `.ix[]`. `ix[2]` then means that you're looking in your DataFrame for values that have an index labeled `2`. This is just like `.loc[]`! However, if your index is not solely integer-based, `ix` will work with positions, just like `.iloc[]`. <font color=red>Warning</font>: The `.ix` indexer is now deprecated, in favor of the more strict .iloc and .loc indexers.\n"
   ]
  },
  {
   "cell_type": "code",
   "execution_count": null,
   "metadata": {},
   "outputs": [],
   "source": [
    "df"
   ]
  },
  {
   "cell_type": "code",
   "execution_count": null,
   "metadata": {},
   "outputs": [],
   "source": [
    "# Using `iloc[]`\n",
    "print(df.iloc[0,0])"
   ]
  },
  {
   "cell_type": "code",
   "execution_count": null,
   "metadata": {},
   "outputs": [],
   "source": [
    "# Using `loc[]`\n",
    "print(df.loc[1]['a'])"
   ]
  },
  {
   "cell_type": "code",
   "execution_count": null,
   "metadata": {},
   "outputs": [],
   "source": [
    "# Using `loc[]`\n",
    "print(df.loc[1,'a'])"
   ]
  },
  {
   "cell_type": "code",
   "execution_count": null,
   "metadata": {},
   "outputs": [],
   "source": [
    "# Using `at[]`\n",
    "print(df.at[1,'a'])"
   ]
  },
  {
   "cell_type": "code",
   "execution_count": null,
   "metadata": {},
   "outputs": [],
   "source": [
    "# Using `iat[]`\n",
    "print(df.iat[0,0])"
   ]
  },
  {
   "cell_type": "markdown",
   "metadata": {},
   "source": [
    "let's access another cell"
   ]
  },
  {
   "cell_type": "code",
   "execution_count": null,
   "metadata": {},
   "outputs": [],
   "source": [
    "# Using `iloc[]`\n",
    "print(df.iloc[1,3])\n",
    "\n",
    "# Using `loc[]`\n",
    "print(df.loc[2]['d'])\n",
    "\n",
    "# Using `loc[]`\n",
    "print(df.loc[2,'d'])\n",
    "\n",
    "# Using `at[]`\n",
    "print(df.at[2,'d'])\n",
    "\n",
    "# Using `iat[]`\n",
    "print(df.iat[1,3])"
   ]
  },
  {
   "cell_type": "markdown",
   "metadata": {},
   "source": [
    "What about selecting rows and columns?"
   ]
  },
  {
   "cell_type": "code",
   "execution_count": null,
   "metadata": {},
   "outputs": [],
   "source": [
    "# Use `iloc[]` to select a row\n",
    "df.iloc[0]"
   ]
  },
  {
   "cell_type": "code",
   "execution_count": null,
   "metadata": {},
   "outputs": [],
   "source": [
    "# Use `loc[]` to select a column\n",
    "df.loc[:,'d']"
   ]
  },
  {
   "cell_type": "markdown",
   "metadata": {},
   "source": [
    "### The difference between `.loc` and `.iloc`"
   ]
  },
  {
   "cell_type": "code",
   "execution_count": null,
   "metadata": {
    "scrolled": true
   },
   "outputs": [],
   "source": [
    "df2 = pd.DataFrame(data=np.array([[1, 2, 3], \n",
    "                                  [4, 5, 6], \n",
    "                                  [7, 8, 9]]), \n",
    "                   index= [2, 'A', 4], \n",
    "                   columns=[48, 49, 50])\n",
    "df2"
   ]
  },
  {
   "cell_type": "code",
   "execution_count": null,
   "metadata": {},
   "outputs": [],
   "source": [
    "# Pass `2` to `loc`\n",
    "df2.loc[2]"
   ]
  },
  {
   "cell_type": "code",
   "execution_count": null,
   "metadata": {},
   "outputs": [],
   "source": [
    "# Pass `2` to `iloc`\n",
    "df2.iloc[2]"
   ]
  },
  {
   "cell_type": "markdown",
   "metadata": {},
   "source": [
    "> <font color=blue>Issue:</font> Why does the output differ?"
   ]
  },
  {
   "cell_type": "markdown",
   "metadata": {},
   "source": [
    "## Adding a Column to your DataFrame"
   ]
  },
  {
   "cell_type": "code",
   "execution_count": null,
   "metadata": {},
   "outputs": [],
   "source": [
    "df = pd.DataFrame(data=np.array([[1, 2, 3], \n",
    "                                 [4, 5, 6], \n",
    "                                 [7, 8, 9]]), \n",
    "                  columns=['A', 'B', 'C'])\n",
    "df"
   ]
  },
  {
   "cell_type": "code",
   "execution_count": null,
   "metadata": {},
   "outputs": [],
   "source": [
    "# Use `.index`\n",
    "df['D'] = df.index\n",
    "df"
   ]
  },
  {
   "cell_type": "markdown",
   "metadata": {},
   "source": [
    "Alternatively,"
   ]
  },
  {
   "cell_type": "code",
   "execution_count": null,
   "metadata": {},
   "outputs": [],
   "source": [
    "df.loc[:, 'E'] = pd.Series(['50', '60', '70'], index=df.index)"
   ]
  },
  {
   "cell_type": "code",
   "execution_count": null,
   "metadata": {},
   "outputs": [],
   "source": [
    "df"
   ]
  },
  {
   "cell_type": "markdown",
   "metadata": {},
   "source": [
    "## Deleting a Column from your DataFrame\n",
    "To get rid of (a selection of) columns from your DataFrame, you can use the drop() method. \n",
    "\n",
    "- You can set `inplace` to `True` to delete the column without having to reassign the DataFrame to a new variable.\n",
    "- The `axis` argument is either 0 indicating that you are deleting rows, and 1 when it is used to drop columns."
   ]
  },
  {
   "cell_type": "code",
   "execution_count": null,
   "metadata": {},
   "outputs": [],
   "source": [
    "df"
   ]
  },
  {
   "cell_type": "code",
   "execution_count": null,
   "metadata": {},
   "outputs": [],
   "source": [
    "# Drop the column with label 'D'                  \n",
    "df.drop('D', axis=1, inplace=True)"
   ]
  },
  {
   "cell_type": "code",
   "execution_count": null,
   "metadata": {},
   "outputs": [],
   "source": [
    "df"
   ]
  },
  {
   "cell_type": "code",
   "execution_count": null,
   "metadata": {},
   "outputs": [],
   "source": [
    "# Drop the column at position 3\n",
    "df.columns[[3]]"
   ]
  },
  {
   "cell_type": "code",
   "execution_count": null,
   "metadata": {},
   "outputs": [],
   "source": [
    "df.drop(df.columns[[3]], axis=1)"
   ]
  },
  {
   "cell_type": "code",
   "execution_count": null,
   "metadata": {},
   "outputs": [],
   "source": [
    "df"
   ]
  },
  {
   "cell_type": "code",
   "execution_count": null,
   "metadata": {},
   "outputs": [],
   "source": [
    "df.drop(df.columns[[3]], axis=1, inplace=True)"
   ]
  },
  {
   "cell_type": "code",
   "execution_count": null,
   "metadata": {},
   "outputs": [],
   "source": [
    "df"
   ]
  },
  {
   "cell_type": "markdown",
   "metadata": {},
   "source": [
    "## Rename Index labels or Column names\n",
    "To give the columns or your index values of your dataframe a different value, it is best to use the `.rename()` method."
   ]
  },
  {
   "cell_type": "code",
   "execution_count": null,
   "metadata": {},
   "outputs": [],
   "source": [
    "df = pd.DataFrame(data=np.array([[1, 2, 3], \n",
    "                                 [4, 5, 6], \n",
    "                                 [7, 8, 9]]), \n",
    "                  columns=['A', 'B', 'C'])\n",
    "df"
   ]
  },
  {
   "cell_type": "code",
   "execution_count": null,
   "metadata": {},
   "outputs": [],
   "source": [
    "newcols = {\n",
    "    'A': 'new_column_1', \n",
    "    'B': 'new_column_2', \n",
    "    'C': 'new_column_3'\n",
    "}"
   ]
  },
  {
   "cell_type": "code",
   "execution_count": null,
   "metadata": {},
   "outputs": [],
   "source": [
    "# Use `rename()` to rename your columns\n",
    "df.rename(columns=newcols, inplace=True)"
   ]
  },
  {
   "cell_type": "code",
   "execution_count": null,
   "metadata": {},
   "outputs": [],
   "source": [
    "df"
   ]
  },
  {
   "cell_type": "code",
   "execution_count": null,
   "metadata": {},
   "outputs": [],
   "source": [
    "# Rename your index\n",
    "df.rename(index={1: 'new_row_1'}, inplace=True)"
   ]
  },
  {
   "cell_type": "code",
   "execution_count": null,
   "metadata": {},
   "outputs": [],
   "source": [
    "df"
   ]
  },
  {
   "cell_type": "code",
   "execution_count": null,
   "metadata": {},
   "outputs": [],
   "source": [
    "df.add_prefix('Column_')"
   ]
  },
  {
   "cell_type": "markdown",
   "metadata": {},
   "source": [
    "# Reading data in from a file"
   ]
  },
  {
   "cell_type": "markdown",
   "metadata": {},
   "source": [
    "## Example 1: NBA database"
   ]
  },
  {
   "cell_type": "code",
   "execution_count": null,
   "metadata": {},
   "outputs": [],
   "source": [
    "df=pd.read_csv('data/nbaNew.csv')"
   ]
  },
  {
   "cell_type": "code",
   "execution_count": null,
   "metadata": {},
   "outputs": [],
   "source": [
    "df.head(10)"
   ]
  },
  {
   "cell_type": "code",
   "execution_count": null,
   "metadata": {},
   "outputs": [],
   "source": [
    "df.replace(['A.C. Green'],['A.C. Red'])"
   ]
  },
  {
   "cell_type": "code",
   "execution_count": null,
   "metadata": {},
   "outputs": [],
   "source": [
    "# Delete/Drop only the rows which has all values as NaN in pandas\n",
    "\n",
    "df.dropna(axis = 0, how = 'all', inplace = True)\n",
    "df"
   ]
  },
  {
   "cell_type": "code",
   "execution_count": null,
   "metadata": {},
   "outputs": [],
   "source": [
    "# Drop the last two rows:\n",
    "\n",
    "# Option 1 (flexible, can use 'inplace=False' to avoid permanent change)\n",
    "df.drop(df.tail(2).index, inplace = False)\n",
    "\n",
    "# Option 2 (permanently change, unless saved to another variable)\n",
    "df2 = df[:-2] \n",
    "df2"
   ]
  },
  {
   "cell_type": "markdown",
   "metadata": {
    "tags": []
   },
   "source": [
    "Delete rows from a pandas DataFrame based on a conditional expression:"
   ]
  },
  {
   "cell_type": "code",
   "execution_count": null,
   "metadata": {},
   "outputs": [],
   "source": [
    "df[df.PlayerName=='A.C. Green']"
   ]
  },
  {
   "cell_type": "code",
   "execution_count": null,
   "metadata": {},
   "outputs": [],
   "source": [
    "# Drop entries relevant to player 'A.C. Green':\n",
    "\n",
    "df.drop(df[df.PlayerName=='A.C. Green'].index, inplace = False)"
   ]
  },
  {
   "cell_type": "markdown",
   "metadata": {},
   "source": [
    "## Example 2: Macroeconomic data"
   ]
  },
  {
   "cell_type": "code",
   "execution_count": null,
   "metadata": {},
   "outputs": [],
   "source": [
    "df=pd.read_csv('data/Country-data.csv')"
   ]
  },
  {
   "cell_type": "code",
   "execution_count": null,
   "metadata": {},
   "outputs": [],
   "source": [
    "df"
   ]
  },
  {
   "cell_type": "code",
   "execution_count": null,
   "metadata": {},
   "outputs": [],
   "source": [
    "df.head()[['country','gdpp']]"
   ]
  },
  {
   "cell_type": "markdown",
   "metadata": {},
   "source": [
    "#### Statistics"
   ]
  },
  {
   "cell_type": "code",
   "execution_count": null,
   "metadata": {},
   "outputs": [],
   "source": [
    "df.describe()"
   ]
  },
  {
   "cell_type": "code",
   "execution_count": null,
   "metadata": {},
   "outputs": [],
   "source": [
    "df.corr()"
   ]
  },
  {
   "cell_type": "code",
   "execution_count": null,
   "metadata": {},
   "outputs": [],
   "source": [
    "df.std()"
   ]
  },
  {
   "cell_type": "code",
   "execution_count": null,
   "metadata": {},
   "outputs": [],
   "source": [
    "df.count()"
   ]
  },
  {
   "cell_type": "code",
   "execution_count": null,
   "metadata": {},
   "outputs": [],
   "source": [
    "df.min()"
   ]
  },
  {
   "cell_type": "code",
   "execution_count": null,
   "metadata": {},
   "outputs": [],
   "source": [
    "df.max()"
   ]
  },
  {
   "cell_type": "markdown",
   "metadata": {},
   "source": [
    "> <font color=blue>Issue:</font> <br>\n",
    "> - What do `min()` and `max()` statistic above represent? Do these make sense?\n",
    "> - What are the countries with the highest and lowest child mortality?"
   ]
  },
  {
   "cell_type": "code",
   "execution_count": null,
   "metadata": {},
   "outputs": [],
   "source": [
    "display(df[df.country=='Afghanistan'])\n",
    "display(df[df.country=='Zambia'])"
   ]
  },
  {
   "cell_type": "code",
   "execution_count": null,
   "metadata": {},
   "outputs": [],
   "source": [
    "df[df.child_mort==208]"
   ]
  },
  {
   "cell_type": "code",
   "execution_count": null,
   "metadata": {},
   "outputs": [],
   "source": [
    "df.max().inflation"
   ]
  },
  {
   "cell_type": "markdown",
   "metadata": {},
   "source": [
    "Find out which country has the highest inflation rate"
   ]
  },
  {
   "cell_type": "code",
   "execution_count": null,
   "metadata": {},
   "outputs": [],
   "source": [
    "df[df.inflation==df.max().inflation].country"
   ]
  },
  {
   "cell_type": "code",
   "execution_count": null,
   "metadata": {},
   "outputs": [],
   "source": [
    "df.gdpp.mean()"
   ]
  },
  {
   "cell_type": "code",
   "execution_count": null,
   "metadata": {},
   "outputs": [],
   "source": [
    "df.gdpp.median()"
   ]
  },
  {
   "cell_type": "markdown",
   "metadata": {},
   "source": [
    "Sort data by GDP per capita in descending order and display top 10 countries."
   ]
  },
  {
   "cell_type": "code",
   "execution_count": null,
   "metadata": {},
   "outputs": [],
   "source": [
    "df.sort_values(['gdpp'],ascending=False).head(10)"
   ]
  },
  {
   "cell_type": "code",
   "execution_count": null,
   "metadata": {},
   "outputs": [],
   "source": [
    "df.sort_values(['gdpp','country'],ascending=[False,True])"
   ]
  },
  {
   "cell_type": "code",
   "execution_count": null,
   "metadata": {},
   "outputs": [],
   "source": [
    "extr=df['country'].str.extract(r'^(Al)')\n",
    "print(extr)"
   ]
  },
  {
   "cell_type": "code",
   "execution_count": null,
   "metadata": {},
   "outputs": [],
   "source": [
    "df[df['country'].str.contains(\"lia\")]"
   ]
  },
  {
   "cell_type": "code",
   "execution_count": null,
   "metadata": {},
   "outputs": [],
   "source": [
    "df[df['country'].str.contains(\"lia|Ca\")==True]"
   ]
  },
  {
   "cell_type": "code",
   "execution_count": null,
   "metadata": {},
   "outputs": [],
   "source": [
    "# For columns with mixed data types (e.g., string AND numeric data in a single column). \n",
    "# Anything that is not a string cannot have string methods applied on it, so the result is NaN (naturally). \n",
    "# In this case, specify na=False to ignore non-string data.\n",
    "\n",
    "df[df['country'].str.contains(\"lia|Ca\",na=False)]"
   ]
  },
  {
   "cell_type": "code",
   "execution_count": null,
   "metadata": {},
   "outputs": [],
   "source": [
    "df['exports'].plot.hist()"
   ]
  },
  {
   "cell_type": "code",
   "execution_count": null,
   "metadata": {},
   "outputs": [],
   "source": [
    "df.plot.scatter('exports','imports')"
   ]
  },
  {
   "cell_type": "code",
   "execution_count": null,
   "metadata": {},
   "outputs": [],
   "source": [
    "df.country"
   ]
  },
  {
   "cell_type": "code",
   "execution_count": null,
   "metadata": {},
   "outputs": [],
   "source": [
    "df.plot.scatter('exports','imports',85,'red',alpha=0.2)\n",
    "plt.show() # disable log output"
   ]
  },
  {
   "cell_type": "code",
   "execution_count": null,
   "metadata": {},
   "outputs": [],
   "source": [
    "df.plot.scatter('exports','imports','child_mort','red',alpha=0.2)\n",
    "plt.show() # disable log output\n",
    "\n",
    "# What is the difference?"
   ]
  },
  {
   "cell_type": "code",
   "execution_count": null,
   "metadata": {},
   "outputs": [],
   "source": [
    "# Add labels to scatter points (annotations):\n",
    "ax=df.plot.scatter('exports','imports',85,'red',alpha=0.2)  # Note: we are saving a plot/axis object to a variable so we can refer to it and modify it later\n",
    "\n",
    "for i, txt in enumerate(df.country):\n",
    "    ax.annotate(txt, (df.exports.iat[i], df.imports.iat[i]))  # here, we refer to already plotted plain sctatterplot, 'ax', and add stuff to it.\n",
    "    \n",
    "plt.show() # disable log output"
   ]
  },
  {
   "cell_type": "code",
   "execution_count": null,
   "metadata": {},
   "outputs": [],
   "source": []
  },
  {
   "cell_type": "markdown",
   "metadata": {},
   "source": [
    "Replace numeric row labels in the DataFrame with the data in one of the columns:"
   ]
  },
  {
   "cell_type": "code",
   "execution_count": null,
   "metadata": {},
   "outputs": [],
   "source": [
    "df.set_index('country',inplace=True)"
   ]
  },
  {
   "cell_type": "code",
   "execution_count": null,
   "metadata": {},
   "outputs": [],
   "source": [
    "df"
   ]
  },
  {
   "cell_type": "code",
   "execution_count": null,
   "metadata": {},
   "outputs": [],
   "source": [
    "df.loc['Yemen',:]"
   ]
  },
  {
   "cell_type": "markdown",
   "metadata": {},
   "source": [
    "## Merge, Join, and Concatinate DataFrames"
   ]
  },
  {
   "cell_type": "code",
   "execution_count": null,
   "metadata": {},
   "outputs": [],
   "source": [
    "x=bc.get_yahoo_data({'INTC': 'Intel'}, start='2020-01-01', end='2020-01-31')\n",
    "y=bc.get_yahoo_data({'AMZN': 'Amazon'}, start='2020-01-15', end='2020-02-15')"
   ]
  },
  {
   "cell_type": "code",
   "execution_count": null,
   "metadata": {},
   "outputs": [],
   "source": [
    "x.shape"
   ]
  },
  {
   "cell_type": "code",
   "execution_count": null,
   "metadata": {},
   "outputs": [],
   "source": [
    "y.shape"
   ]
  },
  {
   "cell_type": "code",
   "execution_count": null,
   "metadata": {},
   "outputs": [],
   "source": [
    "xy = pd.merge(x, y,on=[\"Date\"])"
   ]
  },
  {
   "cell_type": "code",
   "execution_count": null,
   "metadata": {},
   "outputs": [],
   "source": [
    "xy # why doesn't start date in y match the requested one?"
   ]
  },
  {
   "cell_type": "code",
   "execution_count": null,
   "metadata": {},
   "outputs": [],
   "source": [
    "pd.merge(x, y,on=[\"Date\"],how=\"left\") # how{‘left’, ‘right’, ‘outer’, ‘inner’, ‘cross’}, default ‘inner’"
   ]
  },
  {
   "cell_type": "markdown",
   "metadata": {},
   "source": [
    "# References\n",
    "* [Pandas reference](https://pandas.pydata.org/pandas-docs/stable/reference/frame.html)\n",
    "* [Combining Data in Pandas With `.merge()`, `.join()`, and `concat()`](https://realpython.com/pandas-merge-join-and-concat/)\n",
    "* [More on `merge()`](https://pandas.pydata.org/pandas-docs/stable/reference/api/pandas.DataFrame.merge.html)"
   ]
  },
  {
   "cell_type": "code",
   "execution_count": null,
   "metadata": {},
   "outputs": [],
   "source": []
  }
 ],
 "metadata": {
  "kernelspec": {
   "display_name": "Python 3 (ipykernel)",
   "language": "python",
   "name": "python3"
  },
  "language_info": {
   "codemirror_mode": {
    "name": "ipython",
    "version": 3
   },
   "file_extension": ".py",
   "mimetype": "text/x-python",
   "name": "python",
   "nbconvert_exporter": "python",
   "pygments_lexer": "ipython3",
   "version": "3.11.7"
  }
 },
 "nbformat": 4,
 "nbformat_minor": 4
}
