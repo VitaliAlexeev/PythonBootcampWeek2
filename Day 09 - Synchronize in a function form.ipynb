{
 "cells": [
  {
   "cell_type": "code",
   "execution_count": null,
   "metadata": {},
   "outputs": [],
   "source": [
    "def sync_files(file1,file2):\n",
    "    import pandas as pd\n",
    "    x=pd.read_csv(file1)\n",
    "    y=pd.read_csv(file2)\n",
    "    x.index=pd.to_datetime(x['Date'],format=\"%d/%m/%Y\")\n",
    "    x.drop(columns=['Date'],inplace=True)\n",
    "    y.index=pd.to_datetime(y['Date'],format=\"%d/%m/%Y\")\n",
    "    y.drop(columns=['Date'],inplace=True)\n",
    "    #newindex = x.index.union(y.index)\n",
    "    newindex = x.index.intersection(y.index)\n",
    "    x = x.reindex(newindex)\n",
    "    y = y.reindex(newindex)\n",
    "    return x, y"
   ]
  },
  {
   "cell_type": "code",
   "execution_count": null,
   "metadata": {},
   "outputs": [],
   "source": [
    "x,y=sync_files(\"data/AAPL_sample.csv\",\"data/IBM_sample.csv\")"
   ]
  },
  {
   "cell_type": "code",
   "execution_count": null,
   "metadata": {},
   "outputs": [],
   "source": [
    "x"
   ]
  },
  {
   "cell_type": "code",
   "execution_count": null,
   "metadata": {},
   "outputs": [],
   "source": [
    "y"
   ]
  },
  {
   "cell_type": "code",
   "execution_count": null,
   "metadata": {},
   "outputs": [],
   "source": []
  }
 ],
 "metadata": {
  "kernelspec": {
   "display_name": "Python 3 (ipykernel)",
   "language": "python",
   "name": "python3"
  },
  "language_info": {
   "codemirror_mode": {
    "name": "ipython",
    "version": 3
   },
   "file_extension": ".py",
   "mimetype": "text/x-python",
   "name": "python",
   "nbconvert_exporter": "python",
   "pygments_lexer": "ipython3",
   "version": "3.9.9"
  }
 },
 "nbformat": 4,
 "nbformat_minor": 4
}
