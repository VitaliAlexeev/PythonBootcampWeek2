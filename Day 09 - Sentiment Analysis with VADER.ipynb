{
 "cells": [
  {
   "cell_type": "markdown",
   "metadata": {},
   "source": [
    "# Sentiment Analysis with VADER in Python\n",
    "\n",
    "## Introduction\n",
    "\n",
    "Sentiment analysis is a powerful tool in text analysis, allowing us to determine the emotional tone behind words. VADER (Valence Aware Dictionary and sEntiment Reasoner) is a lexicon and rule-based sentiment analysis tool that is specifically attuned to sentiments expressed in social media. It is used to identify the polarity (positive/negative) of a given text, providing a quantitative measure of its emotional content.\n",
    "\n",
    "## Setup\n",
    "\n",
    "Before we start, ensure you have the VADER library installed. If not, you can install it using pip:\n",
    "\n",
    "```python\n",
    "!pip install vaderSentiment\n",
    "```"
   ]
  },
  {
   "cell_type": "code",
   "execution_count": 3,
   "metadata": {
    "collapsed": true
   },
   "outputs": [
    {
     "name": "stdout",
     "output_type": "stream",
     "text": [
      "Collecting vaderSentiment\n",
      "  Using cached https://files.pythonhosted.org/packages/76/fc/310e16254683c1ed35eeb97386986d6c00bc29df17ce280aed64d55537e9/vaderSentiment-3.3.2-py2.py3-none-any.whl\n",
      "Requirement already satisfied: requests in c:\\users\\129895\\appdata\\roaming\\python\\python37\\site-packages (from vaderSentiment) (2.27.1)\n",
      "Requirement already satisfied: urllib3<1.27,>=1.21.1 in c:\\software\\anaconda3\\lib\\site-packages (from requests->vaderSentiment) (1.24.2)\n",
      "Requirement already satisfied: charset-normalizer~=2.0.0; python_version >= \"3\" in c:\\users\\129895\\appdata\\roaming\\python\\python37\\site-packages (from requests->vaderSentiment) (2.0.12)\n",
      "Requirement already satisfied: certifi>=2017.4.17 in c:\\software\\anaconda3\\lib\\site-packages (from requests->vaderSentiment) (2019.9.11)\n",
      "Requirement already satisfied: idna<4,>=2.5; python_version >= \"3\" in c:\\software\\anaconda3\\lib\\site-packages (from requests->vaderSentiment) (2.8)\n",
      "Installing collected packages: vaderSentiment\n",
      "Successfully installed vaderSentiment-3.3.2\n"
     ]
    }
   ],
   "source": [
    "!pip install --user vaderSentiment"
   ]
  },
  {
   "cell_type": "code",
   "execution_count": 4,
   "metadata": {},
   "outputs": [],
   "source": [
    "from vaderSentiment.vaderSentiment import SentimentIntensityAnalyzer"
   ]
  },
  {
   "cell_type": "markdown",
   "metadata": {},
   "source": [
    "### Example 1: Simple Sentiment Analysis\n",
    "\n",
    "Let's start with a simple example to analyze the sentiment of a positive sentence:"
   ]
  },
  {
   "cell_type": "code",
   "execution_count": 5,
   "metadata": {},
   "outputs": [
    {
     "name": "stdout",
     "output_type": "stream",
     "text": [
      "{'neg': 0.0, 'neu': 0.354, 'pos': 0.646, 'compound': 0.807}\n"
     ]
    }
   ],
   "source": [
    "analyzer = SentimentIntensityAnalyzer()\n",
    "sentence = \"I love sunny days in Sydney!\"\n",
    "scores = analyzer.polarity_scores(sentence)\n",
    "print(scores)"
   ]
  },
  {
   "cell_type": "markdown",
   "metadata": {},
   "source": [
    "### Example 2: Handling Negation\n",
    "\n",
    "VADER is intelligent enough to understand the negation in sentences. Let's see how it handles a negated sentence"
   ]
  },
  {
   "cell_type": "code",
   "execution_count": 6,
   "metadata": {},
   "outputs": [
    {
     "name": "stdout",
     "output_type": "stream",
     "text": [
      "{'neg': 0.333, 'neu': 0.474, 'pos': 0.193, 'compound': -0.2235}\n"
     ]
    }
   ],
   "source": [
    "sentence = \"I don't like rainy days.\"\n",
    "scores = analyzer.polarity_scores(sentence)\n",
    "print(scores)"
   ]
  },
  {
   "cell_type": "markdown",
   "metadata": {},
   "source": [
    "### Example 3: Analyzing a More Complex Sentence\n",
    "\n",
    "Now, let's analyze a more complex sentence that might contain mixed sentiments:"
   ]
  },
  {
   "cell_type": "code",
   "execution_count": 7,
   "metadata": {},
   "outputs": [
    {
     "name": "stdout",
     "output_type": "stream",
     "text": [
      "{'neg': 0.104, 'neu': 0.568, 'pos': 0.328, 'compound': 0.6749}\n"
     ]
    }
   ],
   "source": [
    "sentence = \"The meeting was long and boring, but the outcome was fantastic!\"\n",
    "scores = analyzer.polarity_scores(sentence)\n",
    "print(scores)"
   ]
  },
  {
   "cell_type": "markdown",
   "metadata": {},
   "source": [
    "### Example 4: Comparative Analysis of Multiple Sentences\n",
    "\n",
    "Comparing sentiments across different sentences can provide insights into the varying emotional tones:"
   ]
  },
  {
   "cell_type": "code",
   "execution_count": 8,
   "metadata": {},
   "outputs": [
    {
     "name": "stdout",
     "output_type": "stream",
     "text": [
      "'I love sunny days in Sydney!'\n",
      "{'neg': 0.0, 'neu': 0.354, 'pos': 0.646, 'compound': 0.807}\n",
      "\n",
      "'The meeting was long and boring.'\n",
      "{'neg': 0.315, 'neu': 0.685, 'pos': 0.0, 'compound': -0.3182}\n",
      "\n",
      "'Absolutely fantastic! This new algorithm performs beyond my expectations.'\n",
      "{'neg': 0.0, 'neu': 0.657, 'pos': 0.343, 'compound': 0.6352}\n",
      "\n"
     ]
    }
   ],
   "source": [
    "sentences = [\n",
    "    \"I love sunny days in Sydney!\",\n",
    "    \"The meeting was long and boring.\",\n",
    "    \"Absolutely fantastic! This new algorithm performs beyond my expectations.\"\n",
    "]\n",
    "\n",
    "for sentence in sentences:\n",
    "    scores = analyzer.polarity_scores(sentence)\n",
    "    print(f\"'{sentence}'\\n{scores}\\n\")"
   ]
  },
  {
   "cell_type": "markdown",
   "metadata": {},
   "source": [
    "### Example 5: Visualizing Sentiment Scores\n",
    "\n",
    "Visualizing the sentiment scores of a sentence can help in better understanding the distribution of sentiments:"
   ]
  },
  {
   "cell_type": "code",
   "execution_count": 10,
   "metadata": {},
   "outputs": [
    {
     "data": {
      "image/png": "[encoded data removed]",
      "text/plain": [
       "<Figure size 432x288 with 1 Axes>"
      ]
     },
     "metadata": {},
     "output_type": "display_data"
    }
   ],
   "source": [
    "import matplotlib.pyplot as plt\n",
    "\n",
    "sentence = \"Despite the challenges, the team displayed exceptional resilience and dedication.\"\n",
    "scores = analyzer.polarity_scores(sentence)\n",
    "\n",
    "labels = ['Positive', 'Neutral', 'Negative']\n",
    "sizes = [scores['pos'], scores['neu'], scores['neg']]\n",
    "colors = ['#ff9999','#66b3ff','#99ff99']\n",
    "\n",
    "plt.pie(sizes, labels=labels, colors=colors, autopct='%1.1f%%', startangle=140)\n",
    "plt.axis('equal')  # Equal aspect ratio ensures pie is drawn as a circle.\n",
    "plt.title(\"Sentiment Analysis of a Sentence\")\n",
    "plt.show()"
   ]
  },
  {
   "cell_type": "markdown",
   "metadata": {},
   "source": [
    "For a more advanced example, let's consider a scenario where we perform sentiment analysis on multiple sentences individually and then compare these sentiment scores visually using a bar chart. This will not only show us the sentiment of each sentence but also allow us to easily compare the sentiments across sentences. I'll outline a Python script for you that does the following:\n",
    "\n",
    "1. Performs sentiment analysis on each sentence in a list of sentences using VADER.\n",
    "2. Extracts the compound scores (which represent the overall sentiment) for each sentence.\n",
    "3. Plots these compound scores on a bar chart to visually compare the sentiment across sentences."
   ]
  },
  {
   "cell_type": "code",
   "execution_count": 11,
   "metadata": {},
   "outputs": [
    {
     "data": {
      "image/png": "[encoded data removed]",
      "text/plain": [
       "<Figure size 720x432 with 1 Axes>"
      ]
     },
     "metadata": {
      "needs_background": "light"
     },
     "output_type": "display_data"
    }
   ],
   "source": [
    "# Import necessary libraries\n",
    "from vaderSentiment.vaderSentiment import SentimentIntensityAnalyzer\n",
    "import matplotlib.pyplot as plt\n",
    "\n",
    "# Initialize the SentimentIntensityAnalyzer\n",
    "analyzer = SentimentIntensityAnalyzer()\n",
    "\n",
    "# List of sentences to analyze\n",
    "sentences = [\n",
    "    \"I love sunny days in Sydney!\",\n",
    "    \"The meeting was long and boring.\",\n",
    "    \"Absolutely fantastic! This new algorithm performs beyond my expectations.\",\n",
    "    \"I'm not sure how I feel about the new policy.\",\n",
    "    \"Sadly, the project failed to deliver the expected results.\",\n",
    "    \"Despite the challenges, the team displayed exceptional resilience and dedication.\"\n",
    "]\n",
    "\n",
    "# Perform sentiment analysis on each sentence and store the compound scores\n",
    "compound_scores = []\n",
    "for sentence in sentences:\n",
    "    scores = analyzer.polarity_scores(sentence)\n",
    "    compound_scores.append(scores['compound'])\n",
    "\n",
    "# Plotting\n",
    "plt.figure(figsize=(10, 6))\n",
    "# Create a bar chart with sentences on the X-axis and compound scores on the Y-axis\n",
    "plt.bar(range(len(sentences)), compound_scores, color='skyblue')\n",
    "plt.xlabel('Sentences')\n",
    "plt.ylabel('Compound Sentiment Score')\n",
    "plt.title('Sentiment Analysis of Multiple Sentences')\n",
    "plt.xticks(range(len(sentences)), range(1, len(sentences) + 1), rotation=45)\n",
    "plt.axhline(0, color='red', linestyle='--')  # Add a line to mark the neutral sentiment score (0)\n",
    "plt.show()\n"
   ]
  },
  {
   "cell_type": "markdown",
   "metadata": {},
   "source": [
    "### Explanation\n",
    "\n",
    "- **Sentiment Analysis**: Each sentence is analyzed using VADER to determine its sentiment. The compound score, which ranges from -1 (most negative) to +1 (most positive), is extracted for each sentence.\n",
    "- **Plotting**: We plot these compound scores on a bar chart, where each bar represents a sentence. The height of the bar indicates the sentiment score: higher bars for positive sentiments, lower bars for negative sentiments, and bars around the middle line for neutral sentiments.\n",
    "- **Visual Comparison**: The bar chart makes it easy to compare the overall sentiment of each sentence at a glance. The red dashed line at y=0 helps in distinguishing between sentences with positive, negative, and neutral sentiments."
   ]
  },
  {
   "cell_type": "code",
   "execution_count": 12,
   "metadata": {},
   "outputs": [
    {
     "data": {
      "image/png": "[encoded data removed]",
      "text/plain": [
       "<Figure size 864x576 with 1 Axes>"
      ]
     },
     "metadata": {
      "needs_background": "light"
     },
     "output_type": "display_data"
    }
   ],
   "source": [
    "# Import necessary libraries\n",
    "from vaderSentiment.vaderSentiment import SentimentIntensityAnalyzer\n",
    "import matplotlib.pyplot as plt\n",
    "import numpy as np\n",
    "\n",
    "# Initialize the SentimentIntensityAnalyzer\n",
    "analyzer = SentimentIntensityAnalyzer()\n",
    "\n",
    "# Simple dictionary-based sentiment analyzer\n",
    "positive_words = ['love', 'fantastic', 'happy', 'joy', 'positive', 'successful', 'enjoy', 'like', 'wonderful']\n",
    "negative_words = ['hate', 'boring', 'sad', 'negative', 'failed', 'dislike', 'bad', 'poorly']\n",
    "\n",
    "def simple_sentiment_analysis(sentence):\n",
    "    words = sentence.lower().split()\n",
    "    score = 0\n",
    "    for word in words:\n",
    "        if word in positive_words:\n",
    "            score += 1\n",
    "        elif word in negative_words:\n",
    "            score -= 1\n",
    "    return score\n",
    "\n",
    "# List of sentences to analyze\n",
    "sentences = [\n",
    "    \"I love sunny days in Sydney!\",\n",
    "    \"The meeting was long and boring.\",\n",
    "    \"Absolutely fantastic! This new algorithm performs beyond my expectations.\",\n",
    "    \"I'm not sure how I feel about the new policy.\",\n",
    "    \"Sadly, the project failed to deliver the expected results.\",\n",
    "    \"Despite the challenges, the team displayed exceptional resilience and dedication.\"\n",
    "]\n",
    "\n",
    "# Perform sentiment analysis using both methods and store the scores\n",
    "vader_scores = []\n",
    "simple_scores = []\n",
    "for sentence in sentences:\n",
    "    vader_scores.append(analyzer.polarity_scores(sentence)['compound'])\n",
    "    simple_scores.append(simple_sentiment_analysis(sentence))\n",
    "\n",
    "# Plotting\n",
    "ind = np.arange(len(sentences))  # the x locations for the groups\n",
    "width = 0.35  # the width of the bars\n",
    "\n",
    "fig, ax = plt.subplots(figsize=(12, 8))\n",
    "rects1 = ax.bar(ind - width/2, vader_scores, width, label='VADER')\n",
    "rects2 = ax.bar(ind + width/2, simple_scores, width, label='Simple Dictionary')\n",
    "\n",
    "# Add some text for labels, title and custom x-axis tick labels, etc.\n",
    "ax.set_xlabel('Sentences')\n",
    "ax.set_ylabel('Sentiment Scores')\n",
    "ax.set_title('Sentiment Analysis Comparison: VADER vs. Simple Dictionary')\n",
    "ax.set_xticks(ind)\n",
    "ax.set_xticklabels(range(1, len(sentences) + 1), rotation=45)\n",
    "ax.axhline(0, color='grey', lw=0.8)\n",
    "ax.legend()\n",
    "\n",
    "def autolabel(rects):\n",
    "    \"\"\"Attach a text label above each bar in *rects*, displaying its height.\"\"\"\n",
    "    for rect in rects:\n",
    "        height = rect.get_height()\n",
    "        ax.annotate('{}'.format(round(height, 2)),\n",
    "                    xy=(rect.get_x() + rect.get_width() / 2, height),\n",
    "                    xytext=(0, 3),  # 3 points vertical offset\n",
    "                    textcoords=\"offset points\",\n",
    "                    ha='center', va='bottom')\n",
    "\n",
    "autolabel(rects1)\n",
    "autolabel(rects2)\n",
    "\n",
    "fig.tight_layout()\n",
    "\n",
    "plt.show()\n"
   ]
  },
  {
   "cell_type": "markdown",
   "metadata": {},
   "source": [
    "## Pre-defined lists of positive and negative words\n",
    "\n",
    "You can use existing lists of positive and negative words for sentiment analysis without having to manually define them. The Natural Language Toolkit (NLTK) library includes various resources, one of which is a corpus of positive and negative words. However, it's important to note that while NLTK provides a vast array of linguistic resources, it does not include a dedicated list of positive and negative words by default in the same way it provides stopwords. Instead, such lists are often found in external resources or datasets.\n",
    "\n",
    "We will use the Opinion Lexicon from NLTK, which requires downloading the `opinion_lexicon` corpus, or other external resources such as the Hu and Liu sentiment lexicon."
   ]
  },
  {
   "cell_type": "code",
   "execution_count": 14,
   "metadata": {
    "collapsed": true
   },
   "outputs": [
    {
     "name": "stdout",
     "output_type": "stream",
     "text": [
      "Requirement already satisfied: nltk in c:\\software\\anaconda3\\lib\\site-packages (3.4.5)\n",
      "Requirement already satisfied: six in c:\\software\\anaconda3\\lib\\site-packages (from nltk) (1.12.0)\n"
     ]
    },
    {
     "name": "stderr",
     "output_type": "stream",
     "text": [
      "C:\\Software\\Anaconda3\\lib\\site-packages\\sklearn\\feature_extraction\\image.py:167: DeprecationWarning: `np.int` is a deprecated alias for the builtin `int`. To silence this warning, use `int` by itself. Doing this will not modify any behavior and is safe. When replacing `np.int`, you may wish to use e.g. `np.int64` or `np.int32` to specify the precision. If you wish to review your current use, check the release note link for additional information.\n",
      "Deprecated in NumPy 1.20; for more details and guidance: https://numpy.org/devdocs/release/1.20.0-notes.html#deprecations\n",
      "  dtype=np.int):\n",
      "C:\\Software\\Anaconda3\\lib\\site-packages\\sklearn\\linear_model\\least_angle.py:30: DeprecationWarning: `np.float` is a deprecated alias for the builtin `float`. To silence this warning, use `float` by itself. Doing this will not modify any behavior and is safe. If you specifically wanted the numpy scalar type, use `np.float64` here.\n",
      "Deprecated in NumPy 1.20; for more details and guidance: https://numpy.org/devdocs/release/1.20.0-notes.html#deprecations\n",
      "  method='lar', copy_X=True, eps=np.finfo(np.float).eps,\n",
      "C:\\Software\\Anaconda3\\lib\\site-packages\\sklearn\\linear_model\\least_angle.py:167: DeprecationWarning: `np.float` is a deprecated alias for the builtin `float`. To silence this warning, use `float` by itself. Doing this will not modify any behavior and is safe. If you specifically wanted the numpy scalar type, use `np.float64` here.\n",
      "Deprecated in NumPy 1.20; for more details and guidance: https://numpy.org/devdocs/release/1.20.0-notes.html#deprecations\n",
      "  method='lar', copy_X=True, eps=np.finfo(np.float).eps,\n",
      "C:\\Software\\Anaconda3\\lib\\site-packages\\sklearn\\linear_model\\least_angle.py:284: DeprecationWarning: `np.float` is a deprecated alias for the builtin `float`. To silence this warning, use `float` by itself. Doing this will not modify any behavior and is safe. If you specifically wanted the numpy scalar type, use `np.float64` here.\n",
      "Deprecated in NumPy 1.20; for more details and guidance: https://numpy.org/devdocs/release/1.20.0-notes.html#deprecations\n",
      "  eps=np.finfo(np.float).eps, copy_Gram=True, verbose=0,\n",
      "C:\\Software\\Anaconda3\\lib\\site-packages\\sklearn\\linear_model\\least_angle.py:862: DeprecationWarning: `np.float` is a deprecated alias for the builtin `float`. To silence this warning, use `float` by itself. Doing this will not modify any behavior and is safe. If you specifically wanted the numpy scalar type, use `np.float64` here.\n",
      "Deprecated in NumPy 1.20; for more details and guidance: https://numpy.org/devdocs/release/1.20.0-notes.html#deprecations\n",
      "  eps=np.finfo(np.float).eps, copy_X=True, fit_path=True,\n",
      "C:\\Software\\Anaconda3\\lib\\site-packages\\sklearn\\linear_model\\least_angle.py:1101: DeprecationWarning: `np.float` is a deprecated alias for the builtin `float`. To silence this warning, use `float` by itself. Doing this will not modify any behavior and is safe. If you specifically wanted the numpy scalar type, use `np.float64` here.\n",
      "Deprecated in NumPy 1.20; for more details and guidance: https://numpy.org/devdocs/release/1.20.0-notes.html#deprecations\n",
      "  eps=np.finfo(np.float).eps, copy_X=True, fit_path=True,\n",
      "C:\\Software\\Anaconda3\\lib\\site-packages\\sklearn\\linear_model\\least_angle.py:1127: DeprecationWarning: `np.float` is a deprecated alias for the builtin `float`. To silence this warning, use `float` by itself. Doing this will not modify any behavior and is safe. If you specifically wanted the numpy scalar type, use `np.float64` here.\n",
      "Deprecated in NumPy 1.20; for more details and guidance: https://numpy.org/devdocs/release/1.20.0-notes.html#deprecations\n",
      "  eps=np.finfo(np.float).eps, positive=False):\n",
      "C:\\Software\\Anaconda3\\lib\\site-packages\\sklearn\\linear_model\\least_angle.py:1362: DeprecationWarning: `np.float` is a deprecated alias for the builtin `float`. To silence this warning, use `float` by itself. Doing this will not modify any behavior and is safe. If you specifically wanted the numpy scalar type, use `np.float64` here.\n",
      "Deprecated in NumPy 1.20; for more details and guidance: https://numpy.org/devdocs/release/1.20.0-notes.html#deprecations\n",
      "  max_n_alphas=1000, n_jobs=None, eps=np.finfo(np.float).eps,\n",
      "C:\\Software\\Anaconda3\\lib\\site-packages\\sklearn\\linear_model\\least_angle.py:1602: DeprecationWarning: `np.float` is a deprecated alias for the builtin `float`. To silence this warning, use `float` by itself. Doing this will not modify any behavior and is safe. If you specifically wanted the numpy scalar type, use `np.float64` here.\n",
      "Deprecated in NumPy 1.20; for more details and guidance: https://numpy.org/devdocs/release/1.20.0-notes.html#deprecations\n",
      "  max_n_alphas=1000, n_jobs=None, eps=np.finfo(np.float).eps,\n",
      "C:\\Software\\Anaconda3\\lib\\site-packages\\sklearn\\linear_model\\least_angle.py:1738: DeprecationWarning: `np.float` is a deprecated alias for the builtin `float`. To silence this warning, use `float` by itself. Doing this will not modify any behavior and is safe. If you specifically wanted the numpy scalar type, use `np.float64` here.\n",
      "Deprecated in NumPy 1.20; for more details and guidance: https://numpy.org/devdocs/release/1.20.0-notes.html#deprecations\n",
      "  eps=np.finfo(np.float).eps, copy_X=True, positive=False):\n"
     ]
    }
   ],
   "source": [
    "!pip install --user nltk\n",
    "import nltk"
   ]
  },
  {
   "cell_type": "code",
   "execution_count": 15,
   "metadata": {
    "collapsed": true
   },
   "outputs": [
    {
     "name": "stderr",
     "output_type": "stream",
     "text": [
      "[nltk_data] Downloading package opinion_lexicon to\n",
      "[nltk_data]     C:\\Users\\129895\\AppData\\Roaming\\nltk_data...\n",
      "[nltk_data]   Unzipping corpora\\opinion_lexicon.zip.\n"
     ]
    },
    {
     "data": {
      "text/plain": [
       "True"
      ]
     },
     "execution_count": 15,
     "metadata": {},
     "output_type": "execute_result"
    }
   ],
   "source": [
    "nltk.download('opinion_lexicon')"
   ]
  },
  {
   "cell_type": "code",
   "execution_count": 16,
   "metadata": {},
   "outputs": [
    {
     "name": "stderr",
     "output_type": "stream",
     "text": [
      "[nltk_data] Downloading package punkt to\n",
      "[nltk_data]     C:\\Users\\129895\\AppData\\Roaming\\nltk_data...\n",
      "[nltk_data]   Unzipping tokenizers\\punkt.zip.\n"
     ]
    }
   ],
   "source": [
    "from nltk.corpus import opinion_lexicon\n",
    "from nltk.tokenize import word_tokenize\n",
    "nltk.download('punkt')  # For tokenization\n",
    "\n",
    "# Update the simple sentiment analysis function to use NLTK's lists\n",
    "def simple_sentiment_analysis_nltk(sentence):\n",
    "    positive_words = set(opinion_lexicon.positive())\n",
    "    negative_words = set(opinion_lexicon.negative())\n",
    "    \n",
    "    score = 0\n",
    "    for word in word_tokenize(sentence.lower()):\n",
    "        if word in positive_words:\n",
    "            score += 1\n",
    "        elif word in negative_words:\n",
    "            score -= 1\n",
    "    return score\n",
    "\n",
    "# Assuming the rest of the code remains the same, update the part where you calculate simple scores:\n",
    "simple_scores_nltk = [simple_sentiment_analysis_nltk(sentence) for sentence in sentences]\n",
    "\n",
    "# When plotting, replace `simple_scores` with `simple_scores_nltk` to reflect the scores obtained using NLTK's lexicon.\n"
   ]
  },
  {
   "cell_type": "markdown",
   "metadata": {},
   "source": [
    "### Complete implementations"
   ]
  },
  {
   "cell_type": "code",
   "execution_count": 20,
   "metadata": {},
   "outputs": [
    {
     "name": "stderr",
     "output_type": "stream",
     "text": [
      "[nltk_data] Downloading package opinion_lexicon to\n",
      "[nltk_data]     C:\\Users\\129895\\AppData\\Roaming\\nltk_data...\n",
      "[nltk_data]   Package opinion_lexicon is already up-to-date!\n",
      "[nltk_data] Downloading package punkt to\n",
      "[nltk_data]     C:\\Users\\129895\\AppData\\Roaming\\nltk_data...\n",
      "[nltk_data]   Package punkt is already up-to-date!\n"
     ]
    },
    {
     "data": {
      "image/png": "[encoded data removed]",
      "text/plain": [
       "<Figure size 864x576 with 1 Axes>"
      ]
     },
     "metadata": {
      "needs_background": "light"
     },
     "output_type": "display_data"
    }
   ],
   "source": [
    "# Import necessary libraries\n",
    "from vaderSentiment.vaderSentiment import SentimentIntensityAnalyzer\n",
    "import matplotlib.pyplot as plt\n",
    "import numpy as np\n",
    "import nltk\n",
    "from nltk.corpus import opinion_lexicon\n",
    "from nltk.tokenize import word_tokenize\n",
    "\n",
    "# Ensure NLTK resources are available\n",
    "nltk.download('opinion_lexicon')\n",
    "nltk.download('punkt')\n",
    "\n",
    "# Initialize the SentimentIntensityAnalyzer\n",
    "analyzer = SentimentIntensityAnalyzer()\n",
    "\n",
    "# Simple sentiment analysis function using NLTK's opinion lexicon\n",
    "def simple_sentiment_analysis_nltk(sentence):\n",
    "    positive_words = set(opinion_lexicon.positive())\n",
    "    negative_words = set(opinion_lexicon.negative())\n",
    "    tokens = word_tokenize(sentence.lower())\n",
    "    score = 0\n",
    "    for word in tokens:\n",
    "        if word in positive_words:\n",
    "            score += 1\n",
    "        elif word in negative_words:\n",
    "            score -= 1\n",
    "    \n",
    "    # Normalization: Divide the score by the total number of tokens to ensure it ranges from -1 to +1\n",
    "    # Use max to avoid division by zero for very short sentences\n",
    "    #score = score / max(len(tokens), 1)\n",
    "    return score\n",
    "\n",
    "# List of sentences to analyze\n",
    "sentences = [\n",
    "    \"I love sunny days in Sydney!\",\n",
    "    \"The meeting was long and boring.\",\n",
    "    \"Absolutely fantastic! This new algorithm performs beyond my expectations.\",\n",
    "    \"I'm not sure how I feel about the new policy.\",\n",
    "    \"Sadly, the project failed to deliver the expected results.\",\n",
    "    \"Despite the challenges, the team displayed exceptional resilience and dedication.\"\n",
    "]\n",
    "\n",
    "# Perform sentiment analysis using both methods and store the scores\n",
    "vader_scores = []\n",
    "simple_scores_nltk = []\n",
    "for sentence in sentences:\n",
    "    vader_scores.append(analyzer.polarity_scores(sentence)['compound'])\n",
    "    simple_scores_nltk.append(simple_sentiment_analysis_nltk(sentence))\n",
    "\n",
    "# Plotting\n",
    "ind = np.arange(len(sentences))  # the x locations for the groups\n",
    "width = 0.35  # the width of the bars\n",
    "\n",
    "fig, ax = plt.subplots(figsize=(12, 8))\n",
    "rects1 = ax.bar(ind - width/2, vader_scores, width, label='VADER')\n",
    "rects2 = ax.bar(ind + width/2, simple_scores_nltk, width, label='Simple Dictionary (NLTK)')\n",
    "\n",
    "# Add some text for labels, title and custom x-axis tick labels, etc.\n",
    "ax.set_xlabel('Sentences')\n",
    "ax.set_ylabel('Sentiment Scores')\n",
    "ax.set_title('Sentiment Analysis Comparison: VADER vs. Simple Dictionary (NLTK)')\n",
    "ax.set_xticks(ind)\n",
    "ax.set_xticklabels(range(1, len(sentences) + 1), rotation=45)\n",
    "ax.axhline(0, color='grey', lw=0.8)\n",
    "ax.legend()\n",
    "\n",
    "def autolabel(rects):\n",
    "    \"\"\"Attach a text label above each bar in *rects*, displaying its height.\"\"\"\n",
    "    for rect in rects:\n",
    "        height = rect.get_height()\n",
    "        ax.annotate('{}'.format(round(height, 2)),\n",
    "                    xy=(rect.get_x() + rect.get_width() / 2, height),\n",
    "                    xytext=(0, 3),  # 3 points vertical offset\n",
    "                    textcoords=\"offset points\",\n",
    "                    ha='center', va='bottom')\n",
    "\n",
    "autolabel(rects1)\n",
    "autolabel(rects2)\n",
    "\n",
    "fig.tight_layout()\n",
    "\n",
    "plt.show()\n"
   ]
  },
  {
   "cell_type": "markdown",
   "metadata": {},
   "source": [
    "What is the problem with the graph above?"
   ]
  },
  {
   "cell_type": "markdown",
   "metadata": {},
   "source": [
    "## Conclusion\n",
    "\n",
    "In this notebook, we explored how to perform sentiment analysis using the VADER library in Python, from simple to more complex examples. VADER's ability to understand context and nuance in text makes it a powerful tool for analyzing sentiments across various texts. Further exploration can include analyzing texts from social media feeds or customer reviews to gain insights into public sentiment on different topics."
   ]
  },
  {
   "cell_type": "code",
   "execution_count": null,
   "metadata": {},
   "outputs": [],
   "source": []
  }
 ],
 "metadata": {
  "kernelspec": {
   "display_name": "Python 3",
   "language": "python",
   "name": "python3"
  },
  "language_info": {
   "codemirror_mode": {
    "name": "ipython",
    "version": 3
   },
   "file_extension": ".py",
   "mimetype": "text/x-python",
   "name": "python",
   "nbconvert_exporter": "python",
   "pygments_lexer": "ipython3",
   "version": "3.7.4"
  }
 },
 "nbformat": 4,
 "nbformat_minor": 2
}
