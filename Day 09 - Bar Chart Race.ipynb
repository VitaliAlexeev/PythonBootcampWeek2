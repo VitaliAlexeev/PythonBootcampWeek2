{
 "cells": [
  {
   "cell_type": "markdown",
   "id": "waiting-julian",
   "metadata": {},
   "source": [
    "Install bar chart race library with either:\n",
    "\n",
    "- `pip install bar_chart_race` or\n",
    "- `conda install -c conda-forge bar_chart_race`\n",
    "\n",
    "\n",
    "For those of you who are able to download the `ffmpeg` file. Here are the steps to activate it.\n",
    "\n",
    "1. Install the `ffmpeg` in your cmd using `pip` or `conda`:\n",
    "    - `conda install -c conda-forge ffmpeg`    or\n",
    "    - `pip install ffmpeg-python`    \n",
    "2. Download the `ffmpeg` zip file from the following page: [https://ffmpeg.zeranoe.com/builds/]\n",
    "\n",
    "    Since I have Windows OS, I need to put the `ffmpeg`'s bin folder into the path. Unzip the file you've download and copy paste it inside your C: for instance. Put the bin folder to the path using the steps from this link.\n",
    "\n",
    "Note! After these steps you can check the instalation by runnig this command in your terminal:\n",
    "\n",
    "`ffmpeg -version`\n"
   ]
  },
  {
   "cell_type": "code",
   "execution_count": null,
   "id": "51c3db2f-f954-4422-9930-9537c17778db",
   "metadata": {},
   "outputs": [],
   "source": [
    "%pip install ffmpeg-python\n",
    "%pip install bar_chart_race"
   ]
  },
  {
   "cell_type": "code",
   "execution_count": null,
   "id": "improving-orbit",
   "metadata": {},
   "outputs": [],
   "source": [
    "import bar_chart_race as bcr"
   ]
  },
  {
   "cell_type": "code",
   "execution_count": null,
   "id": "further-adrian",
   "metadata": {},
   "outputs": [],
   "source": [
    "df = bcr.load_dataset('covid19_tutorial')\n",
    "df"
   ]
  },
  {
   "cell_type": "code",
   "execution_count": null,
   "id": "cubic-bones",
   "metadata": {},
   "outputs": [],
   "source": [
    "bcr.bar_chart_race(\n",
    "    df=df,\n",
    "    filename=None,\n",
    "    orientation='h',\n",
    "    sort='desc',\n",
    "    n_bars=10,\n",
    "    fixed_order=False,\n",
    "    fixed_max=True,\n",
    "    steps_per_period=1,\n",
    "    interpolate_period=False,\n",
    "    label_bars=True,\n",
    "    bar_size=.95,\n",
    "    period_label={'x': .99, 'y': .25, 'ha': 'right', 'va': 'center'},\n",
    "    period_fmt='%B %d, %Y',\n",
    "    period_summary_func=lambda v, r: {'x': .99, 'y': .18,\n",
    "                                      's': f'Total deaths: {v.nlargest(6).sum():,.0f}',\n",
    "                                      'ha': 'right', 'size': 8, 'family': 'Courier New'},\n",
    "    perpendicular_bar_func='median',\n",
    "    period_length=500,\n",
    "    figsize=(5, 3),\n",
    "    dpi=144,\n",
    "    cmap='dark12',\n",
    "    title='COVID-19 Deaths by Country',\n",
    "    title_size='',\n",
    "    bar_label_size=7,\n",
    "    tick_label_size=7,\n",
    "    shared_fontdict={'family' : 'Helvetica', 'color' : '.1'},\n",
    "    scale='linear',\n",
    "    writer=None,\n",
    "    fig=None,\n",
    "    bar_kwargs={'alpha': .7},\n",
    "    filter_column_colors=False)  "
   ]
  },
  {
   "cell_type": "code",
   "execution_count": null,
   "id": "periodic-quantum",
   "metadata": {},
   "outputs": [],
   "source": [
    "import yfinance as yf\n",
    "import matplotlib.pyplot as plt\n",
    "import pandas as pd\n",
    "import datetime as dt\n",
    "import utsbootcamp as bc"
   ]
  },
  {
   "cell_type": "code",
   "execution_count": null,
   "id": "rural-politics",
   "metadata": {},
   "outputs": [],
   "source": [
    "ticker_list = {'INTC': 'Intel',\n",
    "               'MSFT': 'Microsoft',\n",
    "               'IBM': 'IBM',\n",
    "               'BHP': 'BHP',\n",
    "               'TM': 'Toyota',\n",
    "               'AAPL': 'Apple',\n",
    "               'AMZN': 'Amazon',\n",
    "               'BA': 'Boeing',\n",
    "               'QCOM': 'Qualcomm',\n",
    "               'KO': 'Coca-Cola',\n",
    "               'GOOG': 'Google',\n",
    "               'SONY': 'Sony'}"
   ]
  },
  {
   "cell_type": "code",
   "execution_count": null,
   "id": "million-thomson",
   "metadata": {},
   "outputs": [],
   "source": [
    "df = bc.get_yahoo_data(ticker_list,'2010-01-01','2022-12-31')"
   ]
  },
  {
   "cell_type": "code",
   "execution_count": null,
   "id": "frozen-bidding",
   "metadata": {},
   "outputs": [],
   "source": [
    "cret=bc.price2cret(df).dropna()\n",
    "cret.tail()\n",
    "subdf=cret.iloc[:100,:]\n",
    "subdf"
   ]
  },
  {
   "cell_type": "code",
   "execution_count": null,
   "id": "republican-silicon",
   "metadata": {},
   "outputs": [],
   "source": [
    "bcr.bar_chart_race(\n",
    "    df=subdf,\n",
    "    filename=None,\n",
    "    orientation='h',\n",
    "    sort='desc',\n",
    "    n_bars=12,\n",
    "    fixed_order=False,\n",
    "    fixed_max=False,\n",
    "    steps_per_period=10,\n",
    "    interpolate_period=False,\n",
    "    label_bars=True,\n",
    "    bar_size=.95,\n",
    "    period_label={'x': .99, 'y': .25, 'ha': 'right', 'va': 'center'},\n",
    "    period_fmt='%B %d, %Y',\n",
    "    period_summary_func=lambda v, r: {'x': .99, 'y': .18,\n",
    "                                      's': f'Cumulative Return: {v.nlargest(13).mean():,.4f}',\n",
    "                                      'ha': 'right', 'size': 8, 'family': 'Courier New'},\n",
    "    perpendicular_bar_func='median',\n",
    "    period_length=500,\n",
    "    figsize=(5, 3),\n",
    "    dpi=144,\n",
    "    cmap='dark12',\n",
    "    title='Cumulative returns on selected stocks in portfolio',\n",
    "    title_size='',\n",
    "    bar_label_size=7,\n",
    "    tick_label_size=7,\n",
    "    shared_fontdict={'family' : 'Helvetica', 'color' : '.1'},\n",
    "    scale='linear',\n",
    "    writer=None,\n",
    "    fig=None,\n",
    "    bar_kwargs={'alpha': .5},\n",
    "    filter_column_colors=False)  "
   ]
  },
  {
   "cell_type": "code",
   "execution_count": null,
   "id": "lesbian-engineering",
   "metadata": {},
   "outputs": [],
   "source": [
    "bcr.bar_chart_race(df=subdf,\n",
    "    orientation='h',\n",
    "    sort='desc',\n",
    "    n_bars=12,\n",
    "    steps_per_period=1,\n",
    "    fixed_max=True)  "
   ]
  },
  {
   "cell_type": "code",
   "execution_count": null,
   "id": "knowing-single",
   "metadata": {},
   "outputs": [],
   "source": []
  }
 ],
 "metadata": {
  "kernelspec": {
   "display_name": "Python 3 (ipykernel)",
   "language": "python",
   "name": "python3"
  },
  "language_info": {
   "codemirror_mode": {
    "name": "ipython",
    "version": 3
   },
   "file_extension": ".py",
   "mimetype": "text/x-python",
   "name": "python",
   "nbconvert_exporter": "python",
   "pygments_lexer": "ipython3",
   "version": "3.11.7"
  }
 },
 "nbformat": 4,
 "nbformat_minor": 5
}
